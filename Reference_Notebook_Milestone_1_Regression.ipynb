{
 "cells": [
  {
   "cell_type": "markdown",
   "metadata": {
    "id": "UlqYJ7oql3o1"
   },
   "source": [
    "# **Milestone 1**\n",
    "\n",
    "### **Context:**\n",
    "\n",
    "- The used cars market contains uncertainties in pricing and supply. The sellers are in a difficult position to predict the actual price of the car as several factors such as mileage, brand, model, year can influence it. This issue is important to solve as it ensures the sellers are receiving accurate and fair benefits of selling their vehicle. It also protects the market growth."
   ]
  },
  {
   "cell_type": "markdown",
   "metadata": {
    "id": "xcOelcO5l6aM"
   },
   "source": [
    "### **The objective:**\n",
    "\n",
    " - Goal is to come up with an effective pricing model that can accurately predict the price of used cars and can help the business in devising profitable strategies using differential pricing"
   ]
  },
  {
   "cell_type": "markdown",
   "metadata": {
    "id": "R0lXs6xjmBgk"
   },
   "source": [
    "### **The key questions:**\n",
    "\n",
    " - The price of new vehicles is missing for many entries in the dataset. How to handle these missing values?\n",
    " - Do we go with the simple linear regression approach or a random forest?\n"
   ]
  },
  {
   "cell_type": "markdown",
   "metadata": {
    "id": "4vh1HBtdmE_I"
   },
   "source": [
    "### **The problem formulation**:\n",
    "\n",
    "- We must build a regression model along with basic data preprocessing, Feature engineering, treating the missing values, Univariate analysis and model tuning in order to select the optimal model for calculating the price of any available used car.\n",
    "- To develop this model, we need to identify the most important features in the dataset.\n",
    "- The entire dataset of 7253 used car entries can be split into train and test dataset on a 70% - 30% ratio"
   ]
  },
  {
   "cell_type": "markdown",
   "metadata": {
    "id": "J-JZtcBYtOSb"
   },
   "source": [
    "## **Data Dictionary**\n",
    "\n",
    "**S.No.** : Serial Number\n",
    "\n",
    "**Name** : Name of the car which includes Brand name and Model name\n",
    "\n",
    "**Location** : The location in which the car is being sold or is available for purchase (Cities)\n",
    "\n",
    "**Year** : Manufacturing year of the car\n",
    "\n",
    "**Kilometers_driven** : The total kilometers driven in the car by the previous owner(s) in KM\n",
    "\n",
    "**Fuel_Type** : The type of fuel used by the car (Petrol, Diesel, Electric, CNG, LPG)\n",
    "\n",
    "**Transmission** : The type of transmission used by the car (Automatic / Manual)\n",
    "\n",
    "**Owner** : Type of ownership\n",
    "\n",
    "**Mileage** : The standard mileage offered by the car company in kmpl or km/kg\n",
    "\n",
    "**Engine** : The displacement volume of the engine in CC\n",
    "\n",
    "**Power** : The maximum power of the engine in bhp\n",
    "\n",
    "**Seats** : The number of seats in the car\n",
    "\n",
    "**New_Price** : The price of a new car of the same model in INR 100,000\n",
    "\n",
    "**Price** : The price of the used car in INR 100,000 (**Target Variable**)"
   ]
  },
  {
   "cell_type": "markdown",
   "metadata": {
    "id": "8AqyAIRRVL3P"
   },
   "source": [
    "## **Important Notes**\n",
    "\n",
    "- This notebook can be considered a guide to refer to while solving the problem. The evaluation will be as per the Rubric shared for each Milestone. Unlike previous courses, it does not follow the pattern of the graded questions in different sections. This notebook will give you a direction on what steps need to be taken in order to get a viable solution to the problem. Please note that this is just one way of doing this. There can be other 'creative' ways to solve the problem and we urge you to feel free and explore them as an 'optional' exercise. \n",
    "\n",
    "- In the notebook, there are markdown cells called - Observations and Insights. It is a good practice to provide observations and extract insights from the outputs.\n",
    "\n",
    "- The naming convention for different variables can vary. Please consider the code provided in this notebook as a sample code.\n",
    "\n",
    "- All the outputs in the notebook are just for reference and can be different if you follow a different approach.\n",
    "\n",
    "- There are sections called **Think About It** in the notebook that will help you get a better understanding of the reasoning behind a particular technique/step. Interested learners can take alternative approaches if they wish to explore different techniques. "
   ]
  },
  {
   "cell_type": "markdown",
   "metadata": {
    "id": "sq6tooY0VL3Q"
   },
   "source": [
    "# **Milestone 1** "
   ]
  },
  {
   "cell_type": "markdown",
   "metadata": {
    "id": "rlLoEhsbtOSg"
   },
   "source": [
    "### **Loading libraries**"
   ]
  },
  {
   "cell_type": "code",
   "execution_count": 1,
   "metadata": {
    "id": "8J9KZGl9tOSh"
   },
   "outputs": [],
   "source": [
    "# Import required libraries\n",
    "import pandas as pd\n",
    "import numpy as np\n",
    "\n",
    "import matplotlib.pyplot as plt\n",
    "import seaborn as sns\n",
    "\n",
    "# To ignore warnings\n",
    "import warnings\n",
    "warnings.filterwarnings('ignore')\n",
    "\n",
    "# Remove the limit from the number of displayed columns and rows. It helps to see the entire dataframe while printing it\n",
    "pd.set_option(\"display.max_columns\", None)"
   ]
  },
  {
   "cell_type": "markdown",
   "metadata": {
    "id": "baG7rS5FtOSh"
   },
   "source": [
    "### **Let us load the data**"
   ]
  },
  {
   "cell_type": "code",
   "execution_count": 2,
   "metadata": {
    "id": "flK0muyhtOSi"
   },
   "outputs": [],
   "source": [
    "df = pd.read_csv(\"used_cars.csv\")"
   ]
  },
  {
   "cell_type": "markdown",
   "metadata": {
    "id": "63k9imdMtOSi"
   },
   "source": [
    "### **Understand the data by observing a few rows**"
   ]
  },
  {
   "cell_type": "code",
   "execution_count": 3,
   "metadata": {
    "id": "rrVFKlXXtOSi"
   },
   "outputs": [
    {
     "data": {
      "text/html": [
       "<div>\n",
       "<style scoped>\n",
       "    .dataframe tbody tr th:only-of-type {\n",
       "        vertical-align: middle;\n",
       "    }\n",
       "\n",
       "    .dataframe tbody tr th {\n",
       "        vertical-align: top;\n",
       "    }\n",
       "\n",
       "    .dataframe thead th {\n",
       "        text-align: right;\n",
       "    }\n",
       "</style>\n",
       "<table border=\"1\" class=\"dataframe\">\n",
       "  <thead>\n",
       "    <tr style=\"text-align: right;\">\n",
       "      <th></th>\n",
       "      <th>S.No.</th>\n",
       "      <th>Name</th>\n",
       "      <th>Location</th>\n",
       "      <th>Year</th>\n",
       "      <th>Kilometers_Driven</th>\n",
       "      <th>Fuel_Type</th>\n",
       "      <th>Transmission</th>\n",
       "      <th>Owner_Type</th>\n",
       "      <th>Mileage</th>\n",
       "      <th>Engine</th>\n",
       "      <th>Power</th>\n",
       "      <th>Seats</th>\n",
       "      <th>New_price</th>\n",
       "      <th>Price</th>\n",
       "    </tr>\n",
       "  </thead>\n",
       "  <tbody>\n",
       "    <tr>\n",
       "      <th>0</th>\n",
       "      <td>0</td>\n",
       "      <td>Maruti Wagon R LXI CNG</td>\n",
       "      <td>Mumbai</td>\n",
       "      <td>2010</td>\n",
       "      <td>72000</td>\n",
       "      <td>CNG</td>\n",
       "      <td>Manual</td>\n",
       "      <td>First</td>\n",
       "      <td>26.60</td>\n",
       "      <td>998.0</td>\n",
       "      <td>58.16</td>\n",
       "      <td>5.0</td>\n",
       "      <td>NaN</td>\n",
       "      <td>1.75</td>\n",
       "    </tr>\n",
       "    <tr>\n",
       "      <th>1</th>\n",
       "      <td>1</td>\n",
       "      <td>Hyundai Creta 1.6 CRDi SX Option</td>\n",
       "      <td>Pune</td>\n",
       "      <td>2015</td>\n",
       "      <td>41000</td>\n",
       "      <td>Diesel</td>\n",
       "      <td>Manual</td>\n",
       "      <td>First</td>\n",
       "      <td>19.67</td>\n",
       "      <td>1582.0</td>\n",
       "      <td>126.20</td>\n",
       "      <td>5.0</td>\n",
       "      <td>NaN</td>\n",
       "      <td>12.50</td>\n",
       "    </tr>\n",
       "    <tr>\n",
       "      <th>2</th>\n",
       "      <td>2</td>\n",
       "      <td>Honda Jazz V</td>\n",
       "      <td>Chennai</td>\n",
       "      <td>2011</td>\n",
       "      <td>46000</td>\n",
       "      <td>Petrol</td>\n",
       "      <td>Manual</td>\n",
       "      <td>First</td>\n",
       "      <td>18.20</td>\n",
       "      <td>1199.0</td>\n",
       "      <td>88.70</td>\n",
       "      <td>5.0</td>\n",
       "      <td>8.61</td>\n",
       "      <td>4.50</td>\n",
       "    </tr>\n",
       "    <tr>\n",
       "      <th>3</th>\n",
       "      <td>3</td>\n",
       "      <td>Maruti Ertiga VDI</td>\n",
       "      <td>Chennai</td>\n",
       "      <td>2012</td>\n",
       "      <td>87000</td>\n",
       "      <td>Diesel</td>\n",
       "      <td>Manual</td>\n",
       "      <td>First</td>\n",
       "      <td>20.77</td>\n",
       "      <td>1248.0</td>\n",
       "      <td>88.76</td>\n",
       "      <td>7.0</td>\n",
       "      <td>NaN</td>\n",
       "      <td>6.00</td>\n",
       "    </tr>\n",
       "    <tr>\n",
       "      <th>4</th>\n",
       "      <td>4</td>\n",
       "      <td>Audi A4 New 2.0 TDI Multitronic</td>\n",
       "      <td>Coimbatore</td>\n",
       "      <td>2013</td>\n",
       "      <td>40670</td>\n",
       "      <td>Diesel</td>\n",
       "      <td>Automatic</td>\n",
       "      <td>Second</td>\n",
       "      <td>15.20</td>\n",
       "      <td>1968.0</td>\n",
       "      <td>140.80</td>\n",
       "      <td>5.0</td>\n",
       "      <td>NaN</td>\n",
       "      <td>17.74</td>\n",
       "    </tr>\n",
       "  </tbody>\n",
       "</table>\n",
       "</div>"
      ],
      "text/plain": [
       "   S.No.                              Name    Location  Year  \\\n",
       "0      0            Maruti Wagon R LXI CNG      Mumbai  2010   \n",
       "1      1  Hyundai Creta 1.6 CRDi SX Option        Pune  2015   \n",
       "2      2                      Honda Jazz V     Chennai  2011   \n",
       "3      3                 Maruti Ertiga VDI     Chennai  2012   \n",
       "4      4   Audi A4 New 2.0 TDI Multitronic  Coimbatore  2013   \n",
       "\n",
       "   Kilometers_Driven Fuel_Type Transmission Owner_Type  Mileage  Engine  \\\n",
       "0              72000       CNG       Manual      First    26.60   998.0   \n",
       "1              41000    Diesel       Manual      First    19.67  1582.0   \n",
       "2              46000    Petrol       Manual      First    18.20  1199.0   \n",
       "3              87000    Diesel       Manual      First    20.77  1248.0   \n",
       "4              40670    Diesel    Automatic     Second    15.20  1968.0   \n",
       "\n",
       "    Power  Seats  New_price  Price  \n",
       "0   58.16    5.0        NaN   1.75  \n",
       "1  126.20    5.0        NaN  12.50  \n",
       "2   88.70    5.0       8.61   4.50  \n",
       "3   88.76    7.0        NaN   6.00  \n",
       "4  140.80    5.0        NaN  17.74  "
      ]
     },
     "execution_count": 3,
     "metadata": {},
     "output_type": "execute_result"
    }
   ],
   "source": [
    "# View first 5 rows\n",
    "df.head()"
   ]
  },
  {
   "cell_type": "code",
   "execution_count": 4,
   "metadata": {
    "id": "7oeTruANtOSj"
   },
   "outputs": [
    {
     "data": {
      "text/html": [
       "<div>\n",
       "<style scoped>\n",
       "    .dataframe tbody tr th:only-of-type {\n",
       "        vertical-align: middle;\n",
       "    }\n",
       "\n",
       "    .dataframe tbody tr th {\n",
       "        vertical-align: top;\n",
       "    }\n",
       "\n",
       "    .dataframe thead th {\n",
       "        text-align: right;\n",
       "    }\n",
       "</style>\n",
       "<table border=\"1\" class=\"dataframe\">\n",
       "  <thead>\n",
       "    <tr style=\"text-align: right;\">\n",
       "      <th></th>\n",
       "      <th>S.No.</th>\n",
       "      <th>Name</th>\n",
       "      <th>Location</th>\n",
       "      <th>Year</th>\n",
       "      <th>Kilometers_Driven</th>\n",
       "      <th>Fuel_Type</th>\n",
       "      <th>Transmission</th>\n",
       "      <th>Owner_Type</th>\n",
       "      <th>Mileage</th>\n",
       "      <th>Engine</th>\n",
       "      <th>Power</th>\n",
       "      <th>Seats</th>\n",
       "      <th>New_price</th>\n",
       "      <th>Price</th>\n",
       "    </tr>\n",
       "  </thead>\n",
       "  <tbody>\n",
       "    <tr>\n",
       "      <th>7248</th>\n",
       "      <td>7248</td>\n",
       "      <td>Volkswagen Vento Diesel Trendline</td>\n",
       "      <td>Hyderabad</td>\n",
       "      <td>2011</td>\n",
       "      <td>89411</td>\n",
       "      <td>Diesel</td>\n",
       "      <td>Manual</td>\n",
       "      <td>First</td>\n",
       "      <td>20.54</td>\n",
       "      <td>1598.0</td>\n",
       "      <td>103.6</td>\n",
       "      <td>5.0</td>\n",
       "      <td>NaN</td>\n",
       "      <td>NaN</td>\n",
       "    </tr>\n",
       "    <tr>\n",
       "      <th>7249</th>\n",
       "      <td>7249</td>\n",
       "      <td>Volkswagen Polo GT TSI</td>\n",
       "      <td>Mumbai</td>\n",
       "      <td>2015</td>\n",
       "      <td>59000</td>\n",
       "      <td>Petrol</td>\n",
       "      <td>Automatic</td>\n",
       "      <td>First</td>\n",
       "      <td>17.21</td>\n",
       "      <td>1197.0</td>\n",
       "      <td>103.6</td>\n",
       "      <td>5.0</td>\n",
       "      <td>NaN</td>\n",
       "      <td>NaN</td>\n",
       "    </tr>\n",
       "    <tr>\n",
       "      <th>7250</th>\n",
       "      <td>7250</td>\n",
       "      <td>Nissan Micra Diesel XV</td>\n",
       "      <td>Kolkata</td>\n",
       "      <td>2012</td>\n",
       "      <td>28000</td>\n",
       "      <td>Diesel</td>\n",
       "      <td>Manual</td>\n",
       "      <td>First</td>\n",
       "      <td>23.08</td>\n",
       "      <td>1461.0</td>\n",
       "      <td>63.1</td>\n",
       "      <td>5.0</td>\n",
       "      <td>NaN</td>\n",
       "      <td>NaN</td>\n",
       "    </tr>\n",
       "    <tr>\n",
       "      <th>7251</th>\n",
       "      <td>7251</td>\n",
       "      <td>Volkswagen Polo GT TSI</td>\n",
       "      <td>Pune</td>\n",
       "      <td>2013</td>\n",
       "      <td>52262</td>\n",
       "      <td>Petrol</td>\n",
       "      <td>Automatic</td>\n",
       "      <td>Third</td>\n",
       "      <td>17.20</td>\n",
       "      <td>1197.0</td>\n",
       "      <td>103.6</td>\n",
       "      <td>5.0</td>\n",
       "      <td>NaN</td>\n",
       "      <td>NaN</td>\n",
       "    </tr>\n",
       "    <tr>\n",
       "      <th>7252</th>\n",
       "      <td>7252</td>\n",
       "      <td>Mercedes-Benz E-Class 2009-2013 E 220 CDI Avan...</td>\n",
       "      <td>Kochi</td>\n",
       "      <td>2014</td>\n",
       "      <td>72443</td>\n",
       "      <td>Diesel</td>\n",
       "      <td>Automatic</td>\n",
       "      <td>First</td>\n",
       "      <td>10.00</td>\n",
       "      <td>2148.0</td>\n",
       "      <td>170.0</td>\n",
       "      <td>5.0</td>\n",
       "      <td>NaN</td>\n",
       "      <td>NaN</td>\n",
       "    </tr>\n",
       "  </tbody>\n",
       "</table>\n",
       "</div>"
      ],
      "text/plain": [
       "      S.No.                                               Name   Location  \\\n",
       "7248   7248                  Volkswagen Vento Diesel Trendline  Hyderabad   \n",
       "7249   7249                             Volkswagen Polo GT TSI     Mumbai   \n",
       "7250   7250                             Nissan Micra Diesel XV    Kolkata   \n",
       "7251   7251                             Volkswagen Polo GT TSI       Pune   \n",
       "7252   7252  Mercedes-Benz E-Class 2009-2013 E 220 CDI Avan...      Kochi   \n",
       "\n",
       "      Year  Kilometers_Driven Fuel_Type Transmission Owner_Type  Mileage  \\\n",
       "7248  2011              89411    Diesel       Manual      First    20.54   \n",
       "7249  2015              59000    Petrol    Automatic      First    17.21   \n",
       "7250  2012              28000    Diesel       Manual      First    23.08   \n",
       "7251  2013              52262    Petrol    Automatic      Third    17.20   \n",
       "7252  2014              72443    Diesel    Automatic      First    10.00   \n",
       "\n",
       "      Engine  Power  Seats  New_price  Price  \n",
       "7248  1598.0  103.6    5.0        NaN    NaN  \n",
       "7249  1197.0  103.6    5.0        NaN    NaN  \n",
       "7250  1461.0   63.1    5.0        NaN    NaN  \n",
       "7251  1197.0  103.6    5.0        NaN    NaN  \n",
       "7252  2148.0  170.0    5.0        NaN    NaN  "
      ]
     },
     "execution_count": 4,
     "metadata": {},
     "output_type": "execute_result"
    }
   ],
   "source": [
    "# View last 5 rows\n",
    "df.tail(5)"
   ]
  },
  {
   "cell_type": "markdown",
   "metadata": {
    "id": "phPYdzpDtOSk"
   },
   "source": [
    "**Observations and Insights**\n",
    "\n",
    "- There are more missing values in New_price column.\n",
    "- Most of the vehicles manufactured after 2012 are of automatic transmission\n",
    "- Most of the cars are 5 seated\n",
    "- Petrol Vehicles have the least mileage. Brand and Model of the car also impacts the Mileage\n"
   ]
  },
  {
   "cell_type": "markdown",
   "metadata": {
    "id": "T0h9uyJNVL3U"
   },
   "source": [
    "### **Let us check the data types and and missing values of each column** "
   ]
  },
  {
   "cell_type": "code",
   "execution_count": 5,
   "metadata": {
    "id": "r1jWwTJiVL3V"
   },
   "outputs": [
    {
     "name": "stdout",
     "output_type": "stream",
     "text": [
      "<class 'pandas.core.frame.DataFrame'>\n",
      "RangeIndex: 7253 entries, 0 to 7252\n",
      "Data columns (total 14 columns):\n",
      " #   Column             Non-Null Count  Dtype  \n",
      "---  ------             --------------  -----  \n",
      " 0   S.No.              7253 non-null   int64  \n",
      " 1   Name               7253 non-null   object \n",
      " 2   Location           7253 non-null   object \n",
      " 3   Year               7253 non-null   int64  \n",
      " 4   Kilometers_Driven  7253 non-null   int64  \n",
      " 5   Fuel_Type          7253 non-null   object \n",
      " 6   Transmission       7253 non-null   object \n",
      " 7   Owner_Type         7253 non-null   object \n",
      " 8   Mileage            7251 non-null   float64\n",
      " 9   Engine             7207 non-null   float64\n",
      " 10  Power              7078 non-null   float64\n",
      " 11  Seats              7200 non-null   float64\n",
      " 12  New_price          1006 non-null   float64\n",
      " 13  Price              6019 non-null   float64\n",
      "dtypes: float64(6), int64(3), object(5)\n",
      "memory usage: 793.4+ KB\n"
     ]
    }
   ],
   "source": [
    "# Check the datatypes of each column\n",
    "df.info()"
   ]
  },
  {
   "cell_type": "code",
   "execution_count": 6,
   "metadata": {
    "id": "7d0y0_sqVL3V",
    "scrolled": true
   },
   "outputs": [
    {
     "data": {
      "text/plain": [
       "S.No.                   0\n",
       "Name                    0\n",
       "Location                0\n",
       "Year                    0\n",
       "Kilometers_Driven       0\n",
       "Fuel_Type               0\n",
       "Transmission            0\n",
       "Owner_Type              0\n",
       "Mileage                 2\n",
       "Engine                 46\n",
       "Power                 175\n",
       "Seats                  53\n",
       "New_price            6247\n",
       "Price                1234\n",
       "dtype: int64"
      ]
     },
     "execution_count": 6,
     "metadata": {},
     "output_type": "execute_result"
    }
   ],
   "source": [
    "# Check total number of missing values of each column\n",
    "df.isna().sum()"
   ]
  },
  {
   "cell_type": "markdown",
   "metadata": {
    "id": "YYEjK2P9VL3V"
   },
   "source": [
    "**Observations and Insights:**\n",
    "\n",
    "- More missing values in New_price value of the cars\n",
    "- The missing values in seats can be filled using brand and model name of the car.\n",
    "- Its possible there are manual entry errors with respective to missing Engine and Power values"
   ]
  },
  {
   "cell_type": "markdown",
   "metadata": {
    "id": "advlMcdfVL3V"
   },
   "source": [
    "We can observe that `S.No.` has no null values. Also the number of unique values are equal to the number of observations. So, `S.No.` looks like an index for the data entry and such a column would not be useful in providing any predictive power for our analysis. Hence, it can be dropped."
   ]
  },
  {
   "cell_type": "code",
   "execution_count": 7,
   "metadata": {
    "id": "7iOwET4BtOSk"
   },
   "outputs": [
    {
     "data": {
      "text/html": [
       "<div>\n",
       "<style scoped>\n",
       "    .dataframe tbody tr th:only-of-type {\n",
       "        vertical-align: middle;\n",
       "    }\n",
       "\n",
       "    .dataframe tbody tr th {\n",
       "        vertical-align: top;\n",
       "    }\n",
       "\n",
       "    .dataframe thead th {\n",
       "        text-align: right;\n",
       "    }\n",
       "</style>\n",
       "<table border=\"1\" class=\"dataframe\">\n",
       "  <thead>\n",
       "    <tr style=\"text-align: right;\">\n",
       "      <th></th>\n",
       "      <th>Name</th>\n",
       "      <th>Location</th>\n",
       "      <th>Year</th>\n",
       "      <th>Kilometers_Driven</th>\n",
       "      <th>Fuel_Type</th>\n",
       "      <th>Transmission</th>\n",
       "      <th>Owner_Type</th>\n",
       "      <th>Mileage</th>\n",
       "      <th>Engine</th>\n",
       "      <th>Power</th>\n",
       "      <th>Seats</th>\n",
       "      <th>New_price</th>\n",
       "      <th>Price</th>\n",
       "    </tr>\n",
       "  </thead>\n",
       "  <tbody>\n",
       "    <tr>\n",
       "      <th>0</th>\n",
       "      <td>Maruti Wagon R LXI CNG</td>\n",
       "      <td>Mumbai</td>\n",
       "      <td>2010</td>\n",
       "      <td>72000</td>\n",
       "      <td>CNG</td>\n",
       "      <td>Manual</td>\n",
       "      <td>First</td>\n",
       "      <td>26.60</td>\n",
       "      <td>998.0</td>\n",
       "      <td>58.16</td>\n",
       "      <td>5.0</td>\n",
       "      <td>NaN</td>\n",
       "      <td>1.75</td>\n",
       "    </tr>\n",
       "    <tr>\n",
       "      <th>1</th>\n",
       "      <td>Hyundai Creta 1.6 CRDi SX Option</td>\n",
       "      <td>Pune</td>\n",
       "      <td>2015</td>\n",
       "      <td>41000</td>\n",
       "      <td>Diesel</td>\n",
       "      <td>Manual</td>\n",
       "      <td>First</td>\n",
       "      <td>19.67</td>\n",
       "      <td>1582.0</td>\n",
       "      <td>126.20</td>\n",
       "      <td>5.0</td>\n",
       "      <td>NaN</td>\n",
       "      <td>12.50</td>\n",
       "    </tr>\n",
       "    <tr>\n",
       "      <th>2</th>\n",
       "      <td>Honda Jazz V</td>\n",
       "      <td>Chennai</td>\n",
       "      <td>2011</td>\n",
       "      <td>46000</td>\n",
       "      <td>Petrol</td>\n",
       "      <td>Manual</td>\n",
       "      <td>First</td>\n",
       "      <td>18.20</td>\n",
       "      <td>1199.0</td>\n",
       "      <td>88.70</td>\n",
       "      <td>5.0</td>\n",
       "      <td>8.61</td>\n",
       "      <td>4.50</td>\n",
       "    </tr>\n",
       "    <tr>\n",
       "      <th>3</th>\n",
       "      <td>Maruti Ertiga VDI</td>\n",
       "      <td>Chennai</td>\n",
       "      <td>2012</td>\n",
       "      <td>87000</td>\n",
       "      <td>Diesel</td>\n",
       "      <td>Manual</td>\n",
       "      <td>First</td>\n",
       "      <td>20.77</td>\n",
       "      <td>1248.0</td>\n",
       "      <td>88.76</td>\n",
       "      <td>7.0</td>\n",
       "      <td>NaN</td>\n",
       "      <td>6.00</td>\n",
       "    </tr>\n",
       "    <tr>\n",
       "      <th>4</th>\n",
       "      <td>Audi A4 New 2.0 TDI Multitronic</td>\n",
       "      <td>Coimbatore</td>\n",
       "      <td>2013</td>\n",
       "      <td>40670</td>\n",
       "      <td>Diesel</td>\n",
       "      <td>Automatic</td>\n",
       "      <td>Second</td>\n",
       "      <td>15.20</td>\n",
       "      <td>1968.0</td>\n",
       "      <td>140.80</td>\n",
       "      <td>5.0</td>\n",
       "      <td>NaN</td>\n",
       "      <td>17.74</td>\n",
       "    </tr>\n",
       "    <tr>\n",
       "      <th>...</th>\n",
       "      <td>...</td>\n",
       "      <td>...</td>\n",
       "      <td>...</td>\n",
       "      <td>...</td>\n",
       "      <td>...</td>\n",
       "      <td>...</td>\n",
       "      <td>...</td>\n",
       "      <td>...</td>\n",
       "      <td>...</td>\n",
       "      <td>...</td>\n",
       "      <td>...</td>\n",
       "      <td>...</td>\n",
       "      <td>...</td>\n",
       "    </tr>\n",
       "    <tr>\n",
       "      <th>7248</th>\n",
       "      <td>Volkswagen Vento Diesel Trendline</td>\n",
       "      <td>Hyderabad</td>\n",
       "      <td>2011</td>\n",
       "      <td>89411</td>\n",
       "      <td>Diesel</td>\n",
       "      <td>Manual</td>\n",
       "      <td>First</td>\n",
       "      <td>20.54</td>\n",
       "      <td>1598.0</td>\n",
       "      <td>103.60</td>\n",
       "      <td>5.0</td>\n",
       "      <td>NaN</td>\n",
       "      <td>NaN</td>\n",
       "    </tr>\n",
       "    <tr>\n",
       "      <th>7249</th>\n",
       "      <td>Volkswagen Polo GT TSI</td>\n",
       "      <td>Mumbai</td>\n",
       "      <td>2015</td>\n",
       "      <td>59000</td>\n",
       "      <td>Petrol</td>\n",
       "      <td>Automatic</td>\n",
       "      <td>First</td>\n",
       "      <td>17.21</td>\n",
       "      <td>1197.0</td>\n",
       "      <td>103.60</td>\n",
       "      <td>5.0</td>\n",
       "      <td>NaN</td>\n",
       "      <td>NaN</td>\n",
       "    </tr>\n",
       "    <tr>\n",
       "      <th>7250</th>\n",
       "      <td>Nissan Micra Diesel XV</td>\n",
       "      <td>Kolkata</td>\n",
       "      <td>2012</td>\n",
       "      <td>28000</td>\n",
       "      <td>Diesel</td>\n",
       "      <td>Manual</td>\n",
       "      <td>First</td>\n",
       "      <td>23.08</td>\n",
       "      <td>1461.0</td>\n",
       "      <td>63.10</td>\n",
       "      <td>5.0</td>\n",
       "      <td>NaN</td>\n",
       "      <td>NaN</td>\n",
       "    </tr>\n",
       "    <tr>\n",
       "      <th>7251</th>\n",
       "      <td>Volkswagen Polo GT TSI</td>\n",
       "      <td>Pune</td>\n",
       "      <td>2013</td>\n",
       "      <td>52262</td>\n",
       "      <td>Petrol</td>\n",
       "      <td>Automatic</td>\n",
       "      <td>Third</td>\n",
       "      <td>17.20</td>\n",
       "      <td>1197.0</td>\n",
       "      <td>103.60</td>\n",
       "      <td>5.0</td>\n",
       "      <td>NaN</td>\n",
       "      <td>NaN</td>\n",
       "    </tr>\n",
       "    <tr>\n",
       "      <th>7252</th>\n",
       "      <td>Mercedes-Benz E-Class 2009-2013 E 220 CDI Avan...</td>\n",
       "      <td>Kochi</td>\n",
       "      <td>2014</td>\n",
       "      <td>72443</td>\n",
       "      <td>Diesel</td>\n",
       "      <td>Automatic</td>\n",
       "      <td>First</td>\n",
       "      <td>10.00</td>\n",
       "      <td>2148.0</td>\n",
       "      <td>170.00</td>\n",
       "      <td>5.0</td>\n",
       "      <td>NaN</td>\n",
       "      <td>NaN</td>\n",
       "    </tr>\n",
       "  </tbody>\n",
       "</table>\n",
       "<p>7253 rows × 13 columns</p>\n",
       "</div>"
      ],
      "text/plain": [
       "                                                   Name    Location  Year  \\\n",
       "0                                Maruti Wagon R LXI CNG      Mumbai  2010   \n",
       "1                      Hyundai Creta 1.6 CRDi SX Option        Pune  2015   \n",
       "2                                          Honda Jazz V     Chennai  2011   \n",
       "3                                     Maruti Ertiga VDI     Chennai  2012   \n",
       "4                       Audi A4 New 2.0 TDI Multitronic  Coimbatore  2013   \n",
       "...                                                 ...         ...   ...   \n",
       "7248                  Volkswagen Vento Diesel Trendline   Hyderabad  2011   \n",
       "7249                             Volkswagen Polo GT TSI      Mumbai  2015   \n",
       "7250                             Nissan Micra Diesel XV     Kolkata  2012   \n",
       "7251                             Volkswagen Polo GT TSI        Pune  2013   \n",
       "7252  Mercedes-Benz E-Class 2009-2013 E 220 CDI Avan...       Kochi  2014   \n",
       "\n",
       "      Kilometers_Driven Fuel_Type Transmission Owner_Type  Mileage  Engine  \\\n",
       "0                 72000       CNG       Manual      First    26.60   998.0   \n",
       "1                 41000    Diesel       Manual      First    19.67  1582.0   \n",
       "2                 46000    Petrol       Manual      First    18.20  1199.0   \n",
       "3                 87000    Diesel       Manual      First    20.77  1248.0   \n",
       "4                 40670    Diesel    Automatic     Second    15.20  1968.0   \n",
       "...                 ...       ...          ...        ...      ...     ...   \n",
       "7248              89411    Diesel       Manual      First    20.54  1598.0   \n",
       "7249              59000    Petrol    Automatic      First    17.21  1197.0   \n",
       "7250              28000    Diesel       Manual      First    23.08  1461.0   \n",
       "7251              52262    Petrol    Automatic      Third    17.20  1197.0   \n",
       "7252              72443    Diesel    Automatic      First    10.00  2148.0   \n",
       "\n",
       "       Power  Seats  New_price  Price  \n",
       "0      58.16    5.0        NaN   1.75  \n",
       "1     126.20    5.0        NaN  12.50  \n",
       "2      88.70    5.0       8.61   4.50  \n",
       "3      88.76    7.0        NaN   6.00  \n",
       "4     140.80    5.0        NaN  17.74  \n",
       "...      ...    ...        ...    ...  \n",
       "7248  103.60    5.0        NaN    NaN  \n",
       "7249  103.60    5.0        NaN    NaN  \n",
       "7250   63.10    5.0        NaN    NaN  \n",
       "7251  103.60    5.0        NaN    NaN  \n",
       "7252  170.00    5.0        NaN    NaN  \n",
       "\n",
       "[7253 rows x 13 columns]"
      ]
     },
     "execution_count": 7,
     "metadata": {},
     "output_type": "execute_result"
    }
   ],
   "source": [
    "# Remove S.No. column from data. Hint: Use inplace = True\n",
    "df.drop(columns = 'S.No.')"
   ]
  },
  {
   "cell_type": "markdown",
   "metadata": {
    "id": "crnR9cphIrct"
   },
   "source": [
    "## **Exploratory Data Analysis**"
   ]
  },
  {
   "cell_type": "markdown",
   "metadata": {
    "id": "foDG3YDDtOSm"
   },
   "source": [
    "### **Let us now explore the summary statistics of numerical variables**"
   ]
  },
  {
   "cell_type": "code",
   "execution_count": 8,
   "metadata": {
    "id": "gRtUSqXptOSm",
    "scrolled": true
   },
   "outputs": [
    {
     "data": {
      "text/html": [
       "<div>\n",
       "<style scoped>\n",
       "    .dataframe tbody tr th:only-of-type {\n",
       "        vertical-align: middle;\n",
       "    }\n",
       "\n",
       "    .dataframe tbody tr th {\n",
       "        vertical-align: top;\n",
       "    }\n",
       "\n",
       "    .dataframe thead th {\n",
       "        text-align: right;\n",
       "    }\n",
       "</style>\n",
       "<table border=\"1\" class=\"dataframe\">\n",
       "  <thead>\n",
       "    <tr style=\"text-align: right;\">\n",
       "      <th></th>\n",
       "      <th>S.No.</th>\n",
       "      <th>Year</th>\n",
       "      <th>Kilometers_Driven</th>\n",
       "      <th>Mileage</th>\n",
       "      <th>Engine</th>\n",
       "      <th>Power</th>\n",
       "      <th>Seats</th>\n",
       "      <th>New_price</th>\n",
       "      <th>Price</th>\n",
       "    </tr>\n",
       "  </thead>\n",
       "  <tbody>\n",
       "    <tr>\n",
       "      <th>count</th>\n",
       "      <td>7253.000000</td>\n",
       "      <td>7253.000000</td>\n",
       "      <td>7.253000e+03</td>\n",
       "      <td>7251.000000</td>\n",
       "      <td>7207.000000</td>\n",
       "      <td>7078.000000</td>\n",
       "      <td>7200.000000</td>\n",
       "      <td>1006.000000</td>\n",
       "      <td>6019.000000</td>\n",
       "    </tr>\n",
       "    <tr>\n",
       "      <th>mean</th>\n",
       "      <td>3626.000000</td>\n",
       "      <td>2013.365366</td>\n",
       "      <td>5.869906e+04</td>\n",
       "      <td>18.141580</td>\n",
       "      <td>1616.573470</td>\n",
       "      <td>112.765214</td>\n",
       "      <td>5.280417</td>\n",
       "      <td>22.779692</td>\n",
       "      <td>9.479468</td>\n",
       "    </tr>\n",
       "    <tr>\n",
       "      <th>std</th>\n",
       "      <td>2093.905084</td>\n",
       "      <td>3.254421</td>\n",
       "      <td>8.442772e+04</td>\n",
       "      <td>4.562197</td>\n",
       "      <td>595.285137</td>\n",
       "      <td>53.493553</td>\n",
       "      <td>0.809277</td>\n",
       "      <td>27.759344</td>\n",
       "      <td>11.187917</td>\n",
       "    </tr>\n",
       "    <tr>\n",
       "      <th>min</th>\n",
       "      <td>0.000000</td>\n",
       "      <td>1996.000000</td>\n",
       "      <td>1.710000e+02</td>\n",
       "      <td>0.000000</td>\n",
       "      <td>72.000000</td>\n",
       "      <td>34.200000</td>\n",
       "      <td>2.000000</td>\n",
       "      <td>3.910000</td>\n",
       "      <td>0.440000</td>\n",
       "    </tr>\n",
       "    <tr>\n",
       "      <th>25%</th>\n",
       "      <td>1813.000000</td>\n",
       "      <td>2011.000000</td>\n",
       "      <td>3.400000e+04</td>\n",
       "      <td>15.170000</td>\n",
       "      <td>1198.000000</td>\n",
       "      <td>75.000000</td>\n",
       "      <td>5.000000</td>\n",
       "      <td>7.885000</td>\n",
       "      <td>3.500000</td>\n",
       "    </tr>\n",
       "    <tr>\n",
       "      <th>50%</th>\n",
       "      <td>3626.000000</td>\n",
       "      <td>2014.000000</td>\n",
       "      <td>5.341600e+04</td>\n",
       "      <td>18.160000</td>\n",
       "      <td>1493.000000</td>\n",
       "      <td>94.000000</td>\n",
       "      <td>5.000000</td>\n",
       "      <td>11.570000</td>\n",
       "      <td>5.640000</td>\n",
       "    </tr>\n",
       "    <tr>\n",
       "      <th>75%</th>\n",
       "      <td>5439.000000</td>\n",
       "      <td>2016.000000</td>\n",
       "      <td>7.300000e+04</td>\n",
       "      <td>21.100000</td>\n",
       "      <td>1968.000000</td>\n",
       "      <td>138.100000</td>\n",
       "      <td>5.000000</td>\n",
       "      <td>26.042500</td>\n",
       "      <td>9.950000</td>\n",
       "    </tr>\n",
       "    <tr>\n",
       "      <th>max</th>\n",
       "      <td>7252.000000</td>\n",
       "      <td>2019.000000</td>\n",
       "      <td>6.500000e+06</td>\n",
       "      <td>33.540000</td>\n",
       "      <td>5998.000000</td>\n",
       "      <td>616.000000</td>\n",
       "      <td>10.000000</td>\n",
       "      <td>375.000000</td>\n",
       "      <td>160.000000</td>\n",
       "    </tr>\n",
       "  </tbody>\n",
       "</table>\n",
       "</div>"
      ],
      "text/plain": [
       "             S.No.         Year  Kilometers_Driven      Mileage       Engine  \\\n",
       "count  7253.000000  7253.000000       7.253000e+03  7251.000000  7207.000000   \n",
       "mean   3626.000000  2013.365366       5.869906e+04    18.141580  1616.573470   \n",
       "std    2093.905084     3.254421       8.442772e+04     4.562197   595.285137   \n",
       "min       0.000000  1996.000000       1.710000e+02     0.000000    72.000000   \n",
       "25%    1813.000000  2011.000000       3.400000e+04    15.170000  1198.000000   \n",
       "50%    3626.000000  2014.000000       5.341600e+04    18.160000  1493.000000   \n",
       "75%    5439.000000  2016.000000       7.300000e+04    21.100000  1968.000000   \n",
       "max    7252.000000  2019.000000       6.500000e+06    33.540000  5998.000000   \n",
       "\n",
       "             Power        Seats    New_price        Price  \n",
       "count  7078.000000  7200.000000  1006.000000  6019.000000  \n",
       "mean    112.765214     5.280417    22.779692     9.479468  \n",
       "std      53.493553     0.809277    27.759344    11.187917  \n",
       "min      34.200000     2.000000     3.910000     0.440000  \n",
       "25%      75.000000     5.000000     7.885000     3.500000  \n",
       "50%      94.000000     5.000000    11.570000     5.640000  \n",
       "75%     138.100000     5.000000    26.042500     9.950000  \n",
       "max     616.000000    10.000000   375.000000   160.000000  "
      ]
     },
     "execution_count": 8,
     "metadata": {},
     "output_type": "execute_result"
    }
   ],
   "source": [
    "# Explore basic summary statistics of numeric variables\n",
    "df.describe()"
   ]
  },
  {
   "cell_type": "markdown",
   "metadata": {
    "id": "L_1gUwvctOSm"
   },
   "source": [
    "**Observations and Insights:**\n",
    "\n",
    "- There is way too higher values under `Kilometers_Driven`. Possible discrepancy in data\n",
    "- The standard deviation of `Kilometers_Driven` and `Engine` volume are high that indicates these values are more spread out.\n",
    "- The mean is mostly closer to the median except for Engine volume which shows slightly skewed.\n",
    "- Mileage cannot be 0. Possible discrepancy in data.\n"
   ]
  },
  {
   "cell_type": "markdown",
   "metadata": {
    "id": "FE62g5aoVL3W"
   },
   "source": [
    "### **Let us also explore the summary statistics of all categorical variables and the number of unique observations in each category**"
   ]
  },
  {
   "cell_type": "code",
   "execution_count": 9,
   "metadata": {
    "id": "SKOwkEHItOSm"
   },
   "outputs": [
    {
     "data": {
      "text/html": [
       "<div>\n",
       "<style scoped>\n",
       "    .dataframe tbody tr th:only-of-type {\n",
       "        vertical-align: middle;\n",
       "    }\n",
       "\n",
       "    .dataframe tbody tr th {\n",
       "        vertical-align: top;\n",
       "    }\n",
       "\n",
       "    .dataframe thead th {\n",
       "        text-align: right;\n",
       "    }\n",
       "</style>\n",
       "<table border=\"1\" class=\"dataframe\">\n",
       "  <thead>\n",
       "    <tr style=\"text-align: right;\">\n",
       "      <th></th>\n",
       "      <th>Name</th>\n",
       "      <th>Location</th>\n",
       "      <th>Fuel_Type</th>\n",
       "      <th>Transmission</th>\n",
       "      <th>Owner_Type</th>\n",
       "    </tr>\n",
       "  </thead>\n",
       "  <tbody>\n",
       "    <tr>\n",
       "      <th>count</th>\n",
       "      <td>7253</td>\n",
       "      <td>7253</td>\n",
       "      <td>7253</td>\n",
       "      <td>7253</td>\n",
       "      <td>7253</td>\n",
       "    </tr>\n",
       "    <tr>\n",
       "      <th>unique</th>\n",
       "      <td>2041</td>\n",
       "      <td>11</td>\n",
       "      <td>5</td>\n",
       "      <td>2</td>\n",
       "      <td>4</td>\n",
       "    </tr>\n",
       "    <tr>\n",
       "      <th>top</th>\n",
       "      <td>Mahindra XUV500 W8 2WD</td>\n",
       "      <td>Mumbai</td>\n",
       "      <td>Diesel</td>\n",
       "      <td>Manual</td>\n",
       "      <td>First</td>\n",
       "    </tr>\n",
       "    <tr>\n",
       "      <th>freq</th>\n",
       "      <td>55</td>\n",
       "      <td>949</td>\n",
       "      <td>3852</td>\n",
       "      <td>5204</td>\n",
       "      <td>5952</td>\n",
       "    </tr>\n",
       "  </tbody>\n",
       "</table>\n",
       "</div>"
      ],
      "text/plain": [
       "                          Name Location Fuel_Type Transmission Owner_Type\n",
       "count                     7253     7253      7253         7253       7253\n",
       "unique                    2041       11         5            2          4\n",
       "top     Mahindra XUV500 W8 2WD   Mumbai    Diesel       Manual      First\n",
       "freq                        55      949      3852         5204       5952"
      ]
     },
     "execution_count": 9,
     "metadata": {},
     "output_type": "execute_result"
    }
   ],
   "source": [
    "# Explore basic summary statistics of categorical variables\n",
    "df.describe(include='object')"
   ]
  },
  {
   "cell_type": "markdown",
   "metadata": {
    "id": "EaSIWEHUtOSn"
   },
   "source": [
    "**Number of unique observations in each category**"
   ]
  },
  {
   "cell_type": "code",
   "execution_count": 10,
   "metadata": {
    "id": "IKOWSKhqVL3X"
   },
   "outputs": [
    {
     "name": "stdout",
     "output_type": "stream",
     "text": [
      "For column: Name\n",
      "['Maruti Wagon R LXI CNG' 'Hyundai Creta 1.6 CRDi SX Option'\n",
      " 'Honda Jazz V' ... 'Ford EcoSport 1.5 Petrol Ambiente'\n",
      " 'Jeep Compass 1.4 Sport' 'Hyundai Elite i20 Magna Plus']\n",
      "--------------------------------------------------\n",
      "For column: Location\n",
      "['Mumbai' 'Pune' 'Chennai' 'Coimbatore' 'Hyderabad' 'Jaipur' 'Kochi'\n",
      " 'Kolkata' 'Delhi' 'Bangalore' 'Ahmedabad']\n",
      "--------------------------------------------------\n",
      "For column: Fuel_Type\n",
      "['CNG' 'Diesel' 'Petrol' 'LPG' 'Electric']\n",
      "--------------------------------------------------\n",
      "For column: Transmission\n",
      "['Manual' 'Automatic']\n",
      "--------------------------------------------------\n",
      "For column: Owner_Type\n",
      "['First' 'Second' 'Fourth & Above' 'Third']\n",
      "--------------------------------------------------\n"
     ]
    }
   ],
   "source": [
    "cat_cols = df.select_dtypes(include = ['object']).columns\n",
    "\n",
    "for column in cat_cols:\n",
    "    \n",
    "    print(\"For column:\", column)\n",
    "    \n",
    "    print(df[column].unique())\n",
    "    \n",
    "    print('-'*50)"
   ]
  },
  {
   "cell_type": "markdown",
   "metadata": {
    "id": "K8ck0A1ltOSn"
   },
   "source": [
    "#### **Observations and Insights: **\n",
    "\n",
    "- More used cars present in the metropolitan and cosmopolitan cities\n",
    "- Mahindra XUVs are more sold in Mumbai in used car market\n",
    "- Similar type of transmission and owner_type are more frequent"
   ]
  },
  {
   "cell_type": "markdown",
   "metadata": {
    "id": "E1XK56IlVL3X"
   },
   "source": [
    "**Think About It**: \n",
    "\n",
    "- We could observe from summary statistics that kilometers_driven has extreme values. Can we look at the manufactured year for cars with extreme values for kilometers_driven? \n",
    "- Also, we could observe the feature mileage has values zero. Can the mileage of a car be zero?"
   ]
  },
  {
   "cell_type": "markdown",
   "metadata": {
    "id": "xT4ddKw_VL3X"
   },
   "source": [
    "**Let's explore the two points mentioned above**"
   ]
  },
  {
   "cell_type": "markdown",
   "metadata": {
    "id": "V5IwjyYstOSn"
   },
   "source": [
    "**Check Kilometers_Driven extreme values**"
   ]
  },
  {
   "cell_type": "code",
   "execution_count": 11,
   "metadata": {
    "id": "HqsfH-VFtOSo"
   },
   "outputs": [
    {
     "data": {
      "text/html": [
       "<div>\n",
       "<style scoped>\n",
       "    .dataframe tbody tr th:only-of-type {\n",
       "        vertical-align: middle;\n",
       "    }\n",
       "\n",
       "    .dataframe tbody tr th {\n",
       "        vertical-align: top;\n",
       "    }\n",
       "\n",
       "    .dataframe thead th {\n",
       "        text-align: right;\n",
       "    }\n",
       "</style>\n",
       "<table border=\"1\" class=\"dataframe\">\n",
       "  <thead>\n",
       "    <tr style=\"text-align: right;\">\n",
       "      <th></th>\n",
       "      <th>S.No.</th>\n",
       "      <th>Name</th>\n",
       "      <th>Location</th>\n",
       "      <th>Year</th>\n",
       "      <th>Kilometers_Driven</th>\n",
       "      <th>Fuel_Type</th>\n",
       "      <th>Transmission</th>\n",
       "      <th>Owner_Type</th>\n",
       "      <th>Mileage</th>\n",
       "      <th>Engine</th>\n",
       "      <th>Power</th>\n",
       "      <th>Seats</th>\n",
       "      <th>New_price</th>\n",
       "      <th>Price</th>\n",
       "    </tr>\n",
       "  </thead>\n",
       "  <tbody>\n",
       "    <tr>\n",
       "      <th>2328</th>\n",
       "      <td>2328</td>\n",
       "      <td>BMW X5 xDrive 30d M Sport</td>\n",
       "      <td>Chennai</td>\n",
       "      <td>2017</td>\n",
       "      <td>6500000</td>\n",
       "      <td>Diesel</td>\n",
       "      <td>Automatic</td>\n",
       "      <td>First</td>\n",
       "      <td>15.97</td>\n",
       "      <td>2993.0</td>\n",
       "      <td>258.00</td>\n",
       "      <td>5.0</td>\n",
       "      <td>NaN</td>\n",
       "      <td>65.00</td>\n",
       "    </tr>\n",
       "    <tr>\n",
       "      <th>340</th>\n",
       "      <td>340</td>\n",
       "      <td>Skoda Octavia Ambition Plus 2.0 TDI AT</td>\n",
       "      <td>Kolkata</td>\n",
       "      <td>2013</td>\n",
       "      <td>775000</td>\n",
       "      <td>Diesel</td>\n",
       "      <td>Automatic</td>\n",
       "      <td>First</td>\n",
       "      <td>19.30</td>\n",
       "      <td>1968.0</td>\n",
       "      <td>141.00</td>\n",
       "      <td>5.0</td>\n",
       "      <td>NaN</td>\n",
       "      <td>7.50</td>\n",
       "    </tr>\n",
       "    <tr>\n",
       "      <th>1860</th>\n",
       "      <td>1860</td>\n",
       "      <td>Volkswagen Vento Diesel Highline</td>\n",
       "      <td>Chennai</td>\n",
       "      <td>2013</td>\n",
       "      <td>720000</td>\n",
       "      <td>Diesel</td>\n",
       "      <td>Manual</td>\n",
       "      <td>First</td>\n",
       "      <td>20.54</td>\n",
       "      <td>1598.0</td>\n",
       "      <td>103.60</td>\n",
       "      <td>5.0</td>\n",
       "      <td>NaN</td>\n",
       "      <td>5.90</td>\n",
       "    </tr>\n",
       "    <tr>\n",
       "      <th>358</th>\n",
       "      <td>358</td>\n",
       "      <td>Hyundai i10 Magna 1.2</td>\n",
       "      <td>Chennai</td>\n",
       "      <td>2009</td>\n",
       "      <td>620000</td>\n",
       "      <td>Petrol</td>\n",
       "      <td>Manual</td>\n",
       "      <td>First</td>\n",
       "      <td>20.36</td>\n",
       "      <td>1197.0</td>\n",
       "      <td>78.90</td>\n",
       "      <td>5.0</td>\n",
       "      <td>NaN</td>\n",
       "      <td>2.70</td>\n",
       "    </tr>\n",
       "    <tr>\n",
       "      <th>2823</th>\n",
       "      <td>2823</td>\n",
       "      <td>Volkswagen Jetta 2013-2015 2.0L TDI Highline AT</td>\n",
       "      <td>Chennai</td>\n",
       "      <td>2015</td>\n",
       "      <td>480000</td>\n",
       "      <td>Diesel</td>\n",
       "      <td>Automatic</td>\n",
       "      <td>First</td>\n",
       "      <td>16.96</td>\n",
       "      <td>1968.0</td>\n",
       "      <td>138.03</td>\n",
       "      <td>5.0</td>\n",
       "      <td>NaN</td>\n",
       "      <td>13.00</td>\n",
       "    </tr>\n",
       "    <tr>\n",
       "      <th>3092</th>\n",
       "      <td>3092</td>\n",
       "      <td>Honda City i VTEC SV</td>\n",
       "      <td>Kolkata</td>\n",
       "      <td>2015</td>\n",
       "      <td>480000</td>\n",
       "      <td>Petrol</td>\n",
       "      <td>Manual</td>\n",
       "      <td>First</td>\n",
       "      <td>17.40</td>\n",
       "      <td>1497.0</td>\n",
       "      <td>117.30</td>\n",
       "      <td>5.0</td>\n",
       "      <td>NaN</td>\n",
       "      <td>5.00</td>\n",
       "    </tr>\n",
       "    <tr>\n",
       "      <th>4491</th>\n",
       "      <td>4491</td>\n",
       "      <td>Hyundai i20 Magna Optional 1.2</td>\n",
       "      <td>Bangalore</td>\n",
       "      <td>2013</td>\n",
       "      <td>445000</td>\n",
       "      <td>Petrol</td>\n",
       "      <td>Manual</td>\n",
       "      <td>First</td>\n",
       "      <td>18.50</td>\n",
       "      <td>1197.0</td>\n",
       "      <td>82.90</td>\n",
       "      <td>5.0</td>\n",
       "      <td>NaN</td>\n",
       "      <td>4.45</td>\n",
       "    </tr>\n",
       "    <tr>\n",
       "      <th>6921</th>\n",
       "      <td>6921</td>\n",
       "      <td>Maruti Swift Dzire Tour LDI</td>\n",
       "      <td>Jaipur</td>\n",
       "      <td>2012</td>\n",
       "      <td>350000</td>\n",
       "      <td>Diesel</td>\n",
       "      <td>Manual</td>\n",
       "      <td>First</td>\n",
       "      <td>23.40</td>\n",
       "      <td>1248.0</td>\n",
       "      <td>74.00</td>\n",
       "      <td>5.0</td>\n",
       "      <td>NaN</td>\n",
       "      <td>NaN</td>\n",
       "    </tr>\n",
       "    <tr>\n",
       "      <th>3649</th>\n",
       "      <td>3649</td>\n",
       "      <td>Tata Indigo LS</td>\n",
       "      <td>Jaipur</td>\n",
       "      <td>2008</td>\n",
       "      <td>300000</td>\n",
       "      <td>Diesel</td>\n",
       "      <td>Manual</td>\n",
       "      <td>First</td>\n",
       "      <td>17.00</td>\n",
       "      <td>1405.0</td>\n",
       "      <td>70.00</td>\n",
       "      <td>5.0</td>\n",
       "      <td>NaN</td>\n",
       "      <td>1.00</td>\n",
       "    </tr>\n",
       "    <tr>\n",
       "      <th>1528</th>\n",
       "      <td>1528</td>\n",
       "      <td>Toyota Innova 2.5 G (Diesel) 8 Seater BS IV</td>\n",
       "      <td>Hyderabad</td>\n",
       "      <td>2005</td>\n",
       "      <td>299322</td>\n",
       "      <td>Diesel</td>\n",
       "      <td>Manual</td>\n",
       "      <td>First</td>\n",
       "      <td>12.80</td>\n",
       "      <td>2494.0</td>\n",
       "      <td>102.00</td>\n",
       "      <td>8.0</td>\n",
       "      <td>NaN</td>\n",
       "      <td>4.00</td>\n",
       "    </tr>\n",
       "  </tbody>\n",
       "</table>\n",
       "</div>"
      ],
      "text/plain": [
       "      S.No.                                             Name   Location  Year  \\\n",
       "2328   2328                        BMW X5 xDrive 30d M Sport    Chennai  2017   \n",
       "340     340           Skoda Octavia Ambition Plus 2.0 TDI AT    Kolkata  2013   \n",
       "1860   1860                 Volkswagen Vento Diesel Highline    Chennai  2013   \n",
       "358     358                            Hyundai i10 Magna 1.2    Chennai  2009   \n",
       "2823   2823  Volkswagen Jetta 2013-2015 2.0L TDI Highline AT    Chennai  2015   \n",
       "3092   3092                             Honda City i VTEC SV    Kolkata  2015   \n",
       "4491   4491                   Hyundai i20 Magna Optional 1.2  Bangalore  2013   \n",
       "6921   6921                      Maruti Swift Dzire Tour LDI     Jaipur  2012   \n",
       "3649   3649                                   Tata Indigo LS     Jaipur  2008   \n",
       "1528   1528      Toyota Innova 2.5 G (Diesel) 8 Seater BS IV  Hyderabad  2005   \n",
       "\n",
       "      Kilometers_Driven Fuel_Type Transmission Owner_Type  Mileage  Engine  \\\n",
       "2328            6500000    Diesel    Automatic      First    15.97  2993.0   \n",
       "340              775000    Diesel    Automatic      First    19.30  1968.0   \n",
       "1860             720000    Diesel       Manual      First    20.54  1598.0   \n",
       "358              620000    Petrol       Manual      First    20.36  1197.0   \n",
       "2823             480000    Diesel    Automatic      First    16.96  1968.0   \n",
       "3092             480000    Petrol       Manual      First    17.40  1497.0   \n",
       "4491             445000    Petrol       Manual      First    18.50  1197.0   \n",
       "6921             350000    Diesel       Manual      First    23.40  1248.0   \n",
       "3649             300000    Diesel       Manual      First    17.00  1405.0   \n",
       "1528             299322    Diesel       Manual      First    12.80  2494.0   \n",
       "\n",
       "       Power  Seats  New_price  Price  \n",
       "2328  258.00    5.0        NaN  65.00  \n",
       "340   141.00    5.0        NaN   7.50  \n",
       "1860  103.60    5.0        NaN   5.90  \n",
       "358    78.90    5.0        NaN   2.70  \n",
       "2823  138.03    5.0        NaN  13.00  \n",
       "3092  117.30    5.0        NaN   5.00  \n",
       "4491   82.90    5.0        NaN   4.45  \n",
       "6921   74.00    5.0        NaN    NaN  \n",
       "3649   70.00    5.0        NaN   1.00  \n",
       "1528  102.00    8.0        NaN   4.00  "
      ]
     },
     "execution_count": 11,
     "metadata": {},
     "output_type": "execute_result"
    }
   ],
   "source": [
    "# Sort the dataset in 'descending' order using the feature 'Kilometers_Driven'\n",
    "df.sort_values(by='Kilometers_Driven', ascending=False).head(10)"
   ]
  },
  {
   "cell_type": "markdown",
   "metadata": {
    "id": "HxhehTWQtOSo"
   },
   "source": [
    "#### **Observations and Insights: **\n",
    "\n",
    "- Kilometers_Driven has one extreme value given that the year of the car is 2017.\n",
    "- Diesel vehicles tends to be more driven and they are used by a single customer for a long time before they sell it. \n",
    "- Most of the Cars with the highest Kilometers_Driven are in Chennai.\n",
    "- Diesel vehicles have the highest engine power"
   ]
  },
  {
   "cell_type": "markdown",
   "metadata": {
    "id": "rLtq9uqgVL3X"
   },
   "source": [
    "In the first row, a car manufactured as recently as 2017 having been driven 6500000 km is almost impossible. It can be considered as data entry error and so we can remove this value/entry from data."
   ]
  },
  {
   "cell_type": "code",
   "execution_count": 12,
   "metadata": {
    "id": "gA65oQhoIrcx"
   },
   "outputs": [],
   "source": [
    "# Removing the 'row' at index 2328 from the data. Hint: use the argument inplace=True\n",
    "df.drop(df.index[2328], inplace = True)"
   ]
  },
  {
   "cell_type": "markdown",
   "metadata": {
    "id": "fDIBa5OFtOSo"
   },
   "source": [
    "**Check Mileage extreme values**"
   ]
  },
  {
   "cell_type": "code",
   "execution_count": 13,
   "metadata": {
    "id": "0zdqBCD-tOSp"
   },
   "outputs": [
    {
     "data": {
      "text/html": [
       "<div>\n",
       "<style scoped>\n",
       "    .dataframe tbody tr th:only-of-type {\n",
       "        vertical-align: middle;\n",
       "    }\n",
       "\n",
       "    .dataframe tbody tr th {\n",
       "        vertical-align: top;\n",
       "    }\n",
       "\n",
       "    .dataframe thead th {\n",
       "        text-align: right;\n",
       "    }\n",
       "</style>\n",
       "<table border=\"1\" class=\"dataframe\">\n",
       "  <thead>\n",
       "    <tr style=\"text-align: right;\">\n",
       "      <th></th>\n",
       "      <th>S.No.</th>\n",
       "      <th>Name</th>\n",
       "      <th>Location</th>\n",
       "      <th>Year</th>\n",
       "      <th>Kilometers_Driven</th>\n",
       "      <th>Fuel_Type</th>\n",
       "      <th>Transmission</th>\n",
       "      <th>Owner_Type</th>\n",
       "      <th>Mileage</th>\n",
       "      <th>Engine</th>\n",
       "      <th>Power</th>\n",
       "      <th>Seats</th>\n",
       "      <th>New_price</th>\n",
       "      <th>Price</th>\n",
       "    </tr>\n",
       "  </thead>\n",
       "  <tbody>\n",
       "    <tr>\n",
       "      <th>2597</th>\n",
       "      <td>2597</td>\n",
       "      <td>Hyundai Santro Xing XP</td>\n",
       "      <td>Pune</td>\n",
       "      <td>2007</td>\n",
       "      <td>70000</td>\n",
       "      <td>Petrol</td>\n",
       "      <td>Manual</td>\n",
       "      <td>First</td>\n",
       "      <td>0.0</td>\n",
       "      <td>1086.0</td>\n",
       "      <td>NaN</td>\n",
       "      <td>5.0</td>\n",
       "      <td>NaN</td>\n",
       "      <td>1.12</td>\n",
       "    </tr>\n",
       "    <tr>\n",
       "      <th>2343</th>\n",
       "      <td>2343</td>\n",
       "      <td>Hyundai Santro AT</td>\n",
       "      <td>Hyderabad</td>\n",
       "      <td>2006</td>\n",
       "      <td>74483</td>\n",
       "      <td>Petrol</td>\n",
       "      <td>Automatic</td>\n",
       "      <td>First</td>\n",
       "      <td>0.0</td>\n",
       "      <td>999.0</td>\n",
       "      <td>NaN</td>\n",
       "      <td>5.0</td>\n",
       "      <td>NaN</td>\n",
       "      <td>2.30</td>\n",
       "    </tr>\n",
       "    <tr>\n",
       "      <th>5270</th>\n",
       "      <td>5270</td>\n",
       "      <td>Honda City 1.5 GXI</td>\n",
       "      <td>Bangalore</td>\n",
       "      <td>2002</td>\n",
       "      <td>53000</td>\n",
       "      <td>Petrol</td>\n",
       "      <td>Manual</td>\n",
       "      <td>Second</td>\n",
       "      <td>0.0</td>\n",
       "      <td>NaN</td>\n",
       "      <td>NaN</td>\n",
       "      <td>NaN</td>\n",
       "      <td>NaN</td>\n",
       "      <td>1.85</td>\n",
       "    </tr>\n",
       "    <tr>\n",
       "      <th>424</th>\n",
       "      <td>424</td>\n",
       "      <td>Volkswagen Jetta 2007-2011 1.9 L TDI</td>\n",
       "      <td>Hyderabad</td>\n",
       "      <td>2010</td>\n",
       "      <td>42021</td>\n",
       "      <td>Diesel</td>\n",
       "      <td>Manual</td>\n",
       "      <td>First</td>\n",
       "      <td>0.0</td>\n",
       "      <td>1968.0</td>\n",
       "      <td>NaN</td>\n",
       "      <td>5.0</td>\n",
       "      <td>NaN</td>\n",
       "      <td>5.45</td>\n",
       "    </tr>\n",
       "    <tr>\n",
       "      <th>6857</th>\n",
       "      <td>6857</td>\n",
       "      <td>Land Rover Freelander 2 TD4 SE</td>\n",
       "      <td>Mumbai</td>\n",
       "      <td>2011</td>\n",
       "      <td>87000</td>\n",
       "      <td>Diesel</td>\n",
       "      <td>Automatic</td>\n",
       "      <td>First</td>\n",
       "      <td>0.0</td>\n",
       "      <td>2179.0</td>\n",
       "      <td>115.0</td>\n",
       "      <td>5.0</td>\n",
       "      <td>NaN</td>\n",
       "      <td>NaN</td>\n",
       "    </tr>\n",
       "    <tr>\n",
       "      <th>443</th>\n",
       "      <td>443</td>\n",
       "      <td>Hyundai Santro GLS I - Euro I</td>\n",
       "      <td>Coimbatore</td>\n",
       "      <td>2012</td>\n",
       "      <td>50243</td>\n",
       "      <td>Petrol</td>\n",
       "      <td>Manual</td>\n",
       "      <td>First</td>\n",
       "      <td>0.0</td>\n",
       "      <td>1086.0</td>\n",
       "      <td>NaN</td>\n",
       "      <td>5.0</td>\n",
       "      <td>NaN</td>\n",
       "      <td>3.35</td>\n",
       "    </tr>\n",
       "    <tr>\n",
       "      <th>5119</th>\n",
       "      <td>5119</td>\n",
       "      <td>Hyundai Santro Xing XP</td>\n",
       "      <td>Kolkata</td>\n",
       "      <td>2008</td>\n",
       "      <td>45500</td>\n",
       "      <td>Petrol</td>\n",
       "      <td>Manual</td>\n",
       "      <td>Second</td>\n",
       "      <td>0.0</td>\n",
       "      <td>1086.0</td>\n",
       "      <td>NaN</td>\n",
       "      <td>5.0</td>\n",
       "      <td>NaN</td>\n",
       "      <td>1.17</td>\n",
       "    </tr>\n",
       "    <tr>\n",
       "      <th>5022</th>\n",
       "      <td>5022</td>\n",
       "      <td>Land Rover Freelander 2 TD4 SE</td>\n",
       "      <td>Hyderabad</td>\n",
       "      <td>2013</td>\n",
       "      <td>46000</td>\n",
       "      <td>Diesel</td>\n",
       "      <td>Automatic</td>\n",
       "      <td>Second</td>\n",
       "      <td>0.0</td>\n",
       "      <td>2179.0</td>\n",
       "      <td>115.0</td>\n",
       "      <td>5.0</td>\n",
       "      <td>NaN</td>\n",
       "      <td>26.00</td>\n",
       "    </tr>\n",
       "    <tr>\n",
       "      <th>5016</th>\n",
       "      <td>5016</td>\n",
       "      <td>Land Rover Freelander 2 TD4 HSE</td>\n",
       "      <td>Delhi</td>\n",
       "      <td>2013</td>\n",
       "      <td>72000</td>\n",
       "      <td>Diesel</td>\n",
       "      <td>Automatic</td>\n",
       "      <td>First</td>\n",
       "      <td>0.0</td>\n",
       "      <td>2179.0</td>\n",
       "      <td>115.0</td>\n",
       "      <td>5.0</td>\n",
       "      <td>NaN</td>\n",
       "      <td>15.50</td>\n",
       "    </tr>\n",
       "    <tr>\n",
       "      <th>2542</th>\n",
       "      <td>2542</td>\n",
       "      <td>Hyundai Santro GLS II - Euro II</td>\n",
       "      <td>Bangalore</td>\n",
       "      <td>2011</td>\n",
       "      <td>65000</td>\n",
       "      <td>Petrol</td>\n",
       "      <td>Manual</td>\n",
       "      <td>Second</td>\n",
       "      <td>0.0</td>\n",
       "      <td>NaN</td>\n",
       "      <td>NaN</td>\n",
       "      <td>NaN</td>\n",
       "      <td>NaN</td>\n",
       "      <td>3.15</td>\n",
       "    </tr>\n",
       "  </tbody>\n",
       "</table>\n",
       "</div>"
      ],
      "text/plain": [
       "      S.No.                                  Name    Location  Year  \\\n",
       "2597   2597                Hyundai Santro Xing XP        Pune  2007   \n",
       "2343   2343                     Hyundai Santro AT   Hyderabad  2006   \n",
       "5270   5270                    Honda City 1.5 GXI   Bangalore  2002   \n",
       "424     424  Volkswagen Jetta 2007-2011 1.9 L TDI   Hyderabad  2010   \n",
       "6857   6857        Land Rover Freelander 2 TD4 SE      Mumbai  2011   \n",
       "443     443         Hyundai Santro GLS I - Euro I  Coimbatore  2012   \n",
       "5119   5119                Hyundai Santro Xing XP     Kolkata  2008   \n",
       "5022   5022        Land Rover Freelander 2 TD4 SE   Hyderabad  2013   \n",
       "5016   5016       Land Rover Freelander 2 TD4 HSE       Delhi  2013   \n",
       "2542   2542       Hyundai Santro GLS II - Euro II   Bangalore  2011   \n",
       "\n",
       "      Kilometers_Driven Fuel_Type Transmission Owner_Type  Mileage  Engine  \\\n",
       "2597              70000    Petrol       Manual      First      0.0  1086.0   \n",
       "2343              74483    Petrol    Automatic      First      0.0   999.0   \n",
       "5270              53000    Petrol       Manual     Second      0.0     NaN   \n",
       "424               42021    Diesel       Manual      First      0.0  1968.0   \n",
       "6857              87000    Diesel    Automatic      First      0.0  2179.0   \n",
       "443               50243    Petrol       Manual      First      0.0  1086.0   \n",
       "5119              45500    Petrol       Manual     Second      0.0  1086.0   \n",
       "5022              46000    Diesel    Automatic     Second      0.0  2179.0   \n",
       "5016              72000    Diesel    Automatic      First      0.0  2179.0   \n",
       "2542              65000    Petrol       Manual     Second      0.0     NaN   \n",
       "\n",
       "      Power  Seats  New_price  Price  \n",
       "2597    NaN    5.0        NaN   1.12  \n",
       "2343    NaN    5.0        NaN   2.30  \n",
       "5270    NaN    NaN        NaN   1.85  \n",
       "424     NaN    5.0        NaN   5.45  \n",
       "6857  115.0    5.0        NaN    NaN  \n",
       "443     NaN    5.0        NaN   3.35  \n",
       "5119    NaN    5.0        NaN   1.17  \n",
       "5022  115.0    5.0        NaN  26.00  \n",
       "5016  115.0    5.0        NaN  15.50  \n",
       "2542    NaN    NaN        NaN   3.15  "
      ]
     },
     "execution_count": 13,
     "metadata": {},
     "output_type": "execute_result"
    }
   ],
   "source": [
    "# Sort the dataset in 'ascending' order using the feature 'Mileage'\n",
    "df.sort_values(by='Mileage').head(10)"
   ]
  },
  {
   "cell_type": "markdown",
   "metadata": {
    "id": "FcQR7NMgtOSp"
   },
   "source": [
    "#### **Observations**\n",
    "* Mileage of cars cannot be 0, so we should treat 0's as missing values. We will do it in the Feature Engineering part."
   ]
  },
  {
   "cell_type": "markdown",
   "metadata": {
    "id": "7Rwx-1ZuhU3D"
   },
   "source": [
    "## **Univariate Analysis**\n",
    "Univariate analysis is used to explore each variable in a data set, separately. It looks at the range of values, as well as the central tendency of the values. It can be done for both numerical and categorical variables."
   ]
  },
  {
   "cell_type": "markdown",
   "metadata": {
    "id": "XYmSIliuIrcy"
   },
   "source": [
    "## **1. Univariate Analysis - Numerical Data**\n",
    "Histograms and box plots help to visualize and describe numerical data. We use box plot and histogram to analyse the numerical columns."
   ]
  },
  {
   "cell_type": "code",
   "execution_count": 14,
   "metadata": {
    "id": "4IvqyxldtOSp"
   },
   "outputs": [],
   "source": [
    "# Let us write a function that will help us create a boxplot and histogram for any input numerical variable.\n",
    "# This function takes the numerical column as the input and returns the boxplots and histograms for the variable.\n",
    "\n",
    "def histogram_boxplot(feature, figsize = (15, 10), bins = None):\n",
    "    \n",
    "    \"\"\" Boxplot and histogram combined\n",
    "    \n",
    "    feature: 1-d feature array\n",
    "    \n",
    "    figsize: size of fig (default (9, 8))\n",
    "    \n",
    "    bins: number of bins (default None / auto)\n",
    "    \n",
    "    \"\"\"\n",
    "    f2, (ax_box2, ax_hist2) = plt.subplots(nrows = 2, # Number of rows of the subplot grid = 2\n",
    "                                           sharex = True, # X-axis will be shared among all subplots\n",
    "                                           gridspec_kw = {\"height_ratios\": (.25, .75)}, \n",
    "                                           figsize = figsize \n",
    "                                           ) # Creating the 2 subplots\n",
    "    \n",
    "    sns.boxplot(feature, ax = ax_box2, showmeans = True, color = 'violet') # Boxplot will be created and a symbol will indicate the mean value of the column\n",
    "    \n",
    "    sns.distplot(feature, kde = F, ax = ax_hist2, bins = bins, palette = \"winter\") if bins else sns.distplot(feature, kde = False, ax = ax_hist2) # For histogram\n",
    "    \n",
    "    ax_hist2.axvline(np.mean(feature), color = 'green', linestyle = '--') # Add mean to the histogram\n",
    "    \n",
    "    ax_hist2.axvline(np.median(feature), color = 'black', linestyle = '-') # Add median to the histogram"
   ]
  },
  {
   "cell_type": "markdown",
   "metadata": {
    "id": "63SJOZqbtOSp"
   },
   "source": [
    "**Let us plot histogram and box-plot for the feature 'Kilometers_Driven' to understand the distribution and outliers, if any.**"
   ]
  },
  {
   "cell_type": "code",
   "execution_count": 15,
   "metadata": {
    "id": "h3oGmDAktOSq"
   },
   "outputs": [
    {
     "data": {
      "image/png": "[encoded data removed]",
      "text/plain": [
       "<Figure size 1080x720 with 2 Axes>"
      ]
     },
     "metadata": {
      "needs_background": "light"
     },
     "output_type": "display_data"
    }
   ],
   "source": [
    "# Plot histogram and box-plot for 'Kilometers_Driven'\n",
    "histogram_boxplot(df['Kilometers_Driven'])"
   ]
  },
  {
   "cell_type": "markdown",
   "metadata": {
    "id": "J7VeOWAftOSq"
   },
   "source": [
    "**Think About It**: Kilometers_Driven is highly right-skewed. Can we use Log transformation of the feature to reduce/remove the skewness? Why can't we keep skewed data?"
   ]
  },
  {
   "cell_type": "code",
   "execution_count": 16,
   "metadata": {
    "id": "xvUxKBPetOSq"
   },
   "outputs": [
    {
     "data": {
      "image/png": "[encoded data removed]",
      "text/plain": [
       "<Figure size 432x288 with 1 Axes>"
      ]
     },
     "metadata": {
      "needs_background": "light"
     },
     "output_type": "display_data"
    }
   ],
   "source": [
    "# Log transformation of the feature 'Kilometers_Driven'\n",
    "sns.distplot(np.log(df[\"Kilometers_Driven\"]), axlabel = \"Log(Kilometers_Driven)\");"
   ]
  },
  {
   "cell_type": "markdown",
   "metadata": {
    "id": "RhVfiCG6tOSq"
   },
   "source": [
    "**Observations and Insights:**\n",
    "\n",
    "- The highest density of the data seems to be at around 11"
   ]
  },
  {
   "cell_type": "code",
   "execution_count": 17,
   "metadata": {
    "id": "MSobKz9jtOSr"
   },
   "outputs": [],
   "source": [
    "# We can add a transformed kilometers_driven feature in data\n",
    "df[\"kilometers_driven_log\"] = np.log(df[\"Kilometers_Driven\"])"
   ]
  },
  {
   "cell_type": "markdown",
   "metadata": {
    "id": "5IZEyt7NVL3Z"
   },
   "source": [
    "**Note:** Like Kilometers_Driven, the distribution of Price is also highly skewed, we can use log transformation on this column to see if that helps normalize the distribution. And add the transformed variable into the dataset. You can name the variable as **'price_log'**."
   ]
  },
  {
   "cell_type": "code",
   "execution_count": 18,
   "metadata": {
    "id": "bU82nipkVL3Z"
   },
   "outputs": [
    {
     "data": {
      "image/png": "[encoded data removed]",
      "text/plain": [
       "<Figure size 1080x720 with 2 Axes>"
      ]
     },
     "metadata": {
      "needs_background": "light"
     },
     "output_type": "display_data"
    }
   ],
   "source": [
    "# Plot histogram and box-plot for 'Price'\n",
    "histogram_boxplot(df['Price'])"
   ]
  },
  {
   "cell_type": "code",
   "execution_count": 19,
   "metadata": {
    "id": "s16uiRXFVL3Z"
   },
   "outputs": [
    {
     "data": {
      "image/png": "[encoded data removed]",
      "text/plain": [
       "<Figure size 432x288 with 1 Axes>"
      ]
     },
     "metadata": {
      "needs_background": "light"
     },
     "output_type": "display_data"
    }
   ],
   "source": [
    "# Log transformation of the feature 'Price'\n",
    "sns.distplot(np.log(df[\"Price\"]), axlabel = \"Log(Price)\");"
   ]
  },
  {
   "cell_type": "code",
   "execution_count": 20,
   "metadata": {
    "id": "X_8uUAcEVL3Z"
   },
   "outputs": [],
   "source": [
    "# We can Add a transformed Price feature in data\n",
    "df[\"price_log\"] = np.log(df[\"Price\"])"
   ]
  },
  {
   "cell_type": "markdown",
   "metadata": {
    "id": "LaPbA-1ltOSr"
   },
   "source": [
    "**Note:** Try plotting histogram and box-plot for different numerical features and understand how the data looks like."
   ]
  },
  {
   "cell_type": "code",
   "execution_count": 21,
   "metadata": {},
   "outputs": [
    {
     "data": {
      "image/png": "[encoded data removed]",
      "text/plain": [
       "<Figure size 1080x720 with 2 Axes>"
      ]
     },
     "metadata": {
      "needs_background": "light"
     },
     "output_type": "display_data"
    }
   ],
   "source": [
    "# histogram and box-plot for 'Year'\n",
    "histogram_boxplot(df['Year'])"
   ]
  },
  {
   "cell_type": "code",
   "execution_count": 22,
   "metadata": {},
   "outputs": [
    {
     "data": {
      "image/png": "[encoded data removed]",
      "text/plain": [
       "<Figure size 1080x720 with 2 Axes>"
      ]
     },
     "metadata": {
      "needs_background": "light"
     },
     "output_type": "display_data"
    }
   ],
   "source": [
    "# histogram and box-plot for 'Mileage'\n",
    "histogram_boxplot(df['Mileage'])"
   ]
  },
  {
   "cell_type": "code",
   "execution_count": 23,
   "metadata": {},
   "outputs": [
    {
     "data": {
      "image/png": "[encoded data removed]",
      "text/plain": [
       "<Figure size 1080x720 with 2 Axes>"
      ]
     },
     "metadata": {
      "needs_background": "light"
     },
     "output_type": "display_data"
    }
   ],
   "source": [
    "# histogram and box-plot for 'Engine' volume\n",
    "histogram_boxplot(df['Engine'])"
   ]
  },
  {
   "cell_type": "code",
   "execution_count": 24,
   "metadata": {
    "scrolled": false
   },
   "outputs": [
    {
     "data": {
      "image/png": "[encoded data removed]",
      "text/plain": [
       "<Figure size 1080x720 with 2 Axes>"
      ]
     },
     "metadata": {
      "needs_background": "light"
     },
     "output_type": "display_data"
    }
   ],
   "source": [
    "# histogram and box-plot for 'Power' of the engine\n",
    "histogram_boxplot(df['Power'])"
   ]
  },
  {
   "cell_type": "code",
   "execution_count": 25,
   "metadata": {},
   "outputs": [
    {
     "data": {
      "image/png": "[encoded data removed]",
      "text/plain": [
       "<Figure size 1080x720 with 2 Axes>"
      ]
     },
     "metadata": {
      "needs_background": "light"
     },
     "output_type": "display_data"
    }
   ],
   "source": [
    "# histogram and box-plot for 'seats' in the car\n",
    "histogram_boxplot(df['Seats'])"
   ]
  },
  {
   "cell_type": "markdown",
   "metadata": {
    "id": "HwE0djBTtOSr"
   },
   "source": [
    "**Observations and Insights for all the plots:**\n",
    "\n",
    "- There are few outliers in Year which doesn't have any significance, especially entries before year 2007 would not make any significance. So we can remove them.\n",
    "- Mileage has some outliers on both sides which can be removed.\n",
    "- Engine volume also has a lot of outliers.\n",
    "- Enginer power is also highly rightly skewed so we can apply a log transformation on power.\n",
    "- Number of seats is not uniformly distributed with most of the data around 5 seats."
   ]
  },
  {
   "cell_type": "code",
   "execution_count": 26,
   "metadata": {
    "scrolled": true
   },
   "outputs": [
    {
     "data": {
      "image/png": "[encoded data removed]",
      "text/plain": [
       "<Figure size 432x288 with 1 Axes>"
      ]
     },
     "metadata": {
      "needs_background": "light"
     },
     "output_type": "display_data"
    }
   ],
   "source": [
    "# Log transformation of the feature 'Power'\n",
    "sns.distplot(np.log(df[\"Power\"]), axlabel = \"Log(Power)\");"
   ]
  },
  {
   "cell_type": "code",
   "execution_count": 27,
   "metadata": {},
   "outputs": [],
   "source": [
    "# We can add a transformed power feature in data\n",
    "df[\"power_log\"] = np.log(df[\"Power\"])"
   ]
  },
  {
   "cell_type": "markdown",
   "metadata": {
    "id": "vjT3FFoDIrc3"
   },
   "source": [
    "## **2. Univariate analysis - Categorical Data**"
   ]
  },
  {
   "cell_type": "code",
   "execution_count": 28,
   "metadata": {
    "id": "MZZW1y_ctOSt"
   },
   "outputs": [],
   "source": [
    "# Let us write a function that will help us create barplots that indicate the percentage for each category.\n",
    "# This function takes the categorical column as the input and returns the barplots for the variable.\n",
    "\n",
    "def perc_on_bar(z):\n",
    "    '''\n",
    "    plot\n",
    "    feature: categorical feature\n",
    "    the function won't work if a column is passed in hue parameter\n",
    "    '''\n",
    "\n",
    "    total = len(df[z]) # Length of the column\n",
    "    \n",
    "    plt.figure(figsize = (15, 5))\n",
    "    \n",
    "    ax = sns.countplot(df[z], palette = 'Paired', order = df[z].value_counts().index)\n",
    "    \n",
    "    for p in ax.patches:\n",
    "        \n",
    "        percentage = '{:.1f}%'.format(100 * p.get_height() / total) # Percentage of each class of the category\n",
    "        \n",
    "        x = p.get_x() + p.get_width() / 2 - 0.05 # Width of the plot\n",
    "        \n",
    "        y = p.get_y() + p.get_height()           # Hieght of the plot\n",
    "        \n",
    "        ax.annotate(percentage, (x, y), size = 12) # Annotate the percantage \n",
    "    \n",
    "    plt.show() # Show the plot"
   ]
  },
  {
   "cell_type": "markdown",
   "metadata": {
    "id": "lY4PNN04tOSt"
   },
   "source": [
    "**Let us plot barplot for the variable location. It will be helpful to know the number of percentage of cars from each city.**"
   ]
  },
  {
   "cell_type": "code",
   "execution_count": 29,
   "metadata": {
    "id": "OOLcER6KtOSu"
   },
   "outputs": [
    {
     "data": {
      "image/png": "[encoded data removed]",
      "text/plain": [
       "<Figure size 1080x360 with 1 Axes>"
      ]
     },
     "metadata": {
      "needs_background": "light"
     },
     "output_type": "display_data"
    }
   ],
   "source": [
    "# Bar Plot for 'Location'\n",
    "perc_on_bar('Location')"
   ]
  },
  {
   "cell_type": "markdown",
   "metadata": {
    "id": "ggQtrIJmVL3a"
   },
   "source": [
    "**Note:** Explore for other variables like Year, Fuel_Type, Transmission, Owner_Type`."
   ]
  },
  {
   "cell_type": "code",
   "execution_count": 30,
   "metadata": {},
   "outputs": [
    {
     "data": {
      "image/png": "[encoded data removed]",
      "text/plain": [
       "<Figure size 1080x360 with 1 Axes>"
      ]
     },
     "metadata": {
      "needs_background": "light"
     },
     "output_type": "display_data"
    }
   ],
   "source": [
    "# Bar Plot for 'Year'\n",
    "perc_on_bar('Year')"
   ]
  },
  {
   "cell_type": "code",
   "execution_count": 31,
   "metadata": {},
   "outputs": [
    {
     "data": {
      "image/png": "[encoded data removed]",
      "text/plain": [
       "<Figure size 1080x360 with 1 Axes>"
      ]
     },
     "metadata": {
      "needs_background": "light"
     },
     "output_type": "display_data"
    }
   ],
   "source": [
    "# Bar Plot for 'Fuel_Type'\n",
    "perc_on_bar('Fuel_Type')"
   ]
  },
  {
   "cell_type": "code",
   "execution_count": 32,
   "metadata": {},
   "outputs": [
    {
     "data": {
      "image/png": "[encoded data removed]",
      "text/plain": [
       "<Figure size 1080x360 with 1 Axes>"
      ]
     },
     "metadata": {
      "needs_background": "light"
     },
     "output_type": "display_data"
    }
   ],
   "source": [
    "# Bar Plot for 'Transmission'\n",
    "perc_on_bar('Transmission')"
   ]
  },
  {
   "cell_type": "code",
   "execution_count": 33,
   "metadata": {},
   "outputs": [
    {
     "data": {
      "image/png": "[encoded data removed]",
      "text/plain": [
       "<Figure size 1080x360 with 1 Axes>"
      ]
     },
     "metadata": {
      "needs_background": "light"
     },
     "output_type": "display_data"
    }
   ],
   "source": [
    "# Bar Plot for 'Owner_Type'\n",
    "perc_on_bar('Owner_Type')"
   ]
  },
  {
   "cell_type": "markdown",
   "metadata": {
    "id": "GmPUFwWQtOSu"
   },
   "source": [
    "**Observations and Insights from all plots:**\n",
    "\n",
    "- Mumbai has the highest percentage of used cars for sale in market\n",
    "- Cars manufactured during 2011-2016 are more in the used cars market\n",
    "- First hand owners are selling their cars more. This means second and third hand cars cannot be priced higher for sale and would not benefit the customer selling it.\n",
    "- Most people are selling the Manual transmission vehicles"
   ]
  },
  {
   "cell_type": "markdown",
   "metadata": {
    "id": "beo_tDmVhU3-"
   },
   "source": [
    "## **Bivariate Analysis**"
   ]
  },
  {
   "cell_type": "markdown",
   "metadata": {
    "id": "8xmd6go2Irc5"
   },
   "source": [
    "### **1. Scatter plot**\n",
    "A scatter plot allows us to see relationships between two variables. \n",
    "\n",
    "**Note: Use log transformed values 'kilometers_driven_log' and 'price_log'**"
   ]
  },
  {
   "cell_type": "code",
   "execution_count": 34,
   "metadata": {
    "id": "aB4nfBtqVL3b"
   },
   "outputs": [
    {
     "data": {
      "text/plain": [
       "<AxesSubplot:xlabel='price_log'>"
      ]
     },
     "execution_count": 34,
     "metadata": {},
     "output_type": "execute_result"
    },
    {
     "data": {
      "image/png": "[encoded data removed]",
      "text/plain": [
       "<Figure size 432x288 with 1 Axes>"
      ]
     },
     "metadata": {
      "needs_background": "light"
     },
     "output_type": "display_data"
    }
   ],
   "source": [
    "# Let us plot pair plot for the variables 'year' and 'price_log'\n",
    "df.plot(x = 'price_log', y = 'Year', style = 'o')"
   ]
  },
  {
   "cell_type": "markdown",
   "metadata": {
    "id": "v107OPbgVL3b"
   },
   "source": [
    "<b>Note:</b> Try to explore different combinations of independent variables and dependent variable. Understand the relationship between all variables."
   ]
  },
  {
   "cell_type": "code",
   "execution_count": 35,
   "metadata": {
    "scrolled": true
   },
   "outputs": [
    {
     "data": {
      "text/plain": [
       "<AxesSubplot:xlabel='price_log'>"
      ]
     },
     "execution_count": 35,
     "metadata": {},
     "output_type": "execute_result"
    },
    {
     "data": {
      "image/png": "[encoded data removed]",
      "text/plain": [
       "<Figure size 432x288 with 1 Axes>"
      ]
     },
     "metadata": {
      "needs_background": "light"
     },
     "output_type": "display_data"
    }
   ],
   "source": [
    "# Let us pair plot for the variables 'kilometers_driven_log' and 'price_log'\n",
    "df.plot(x = 'price_log', y = 'kilometers_driven_log', style = 'o')"
   ]
  },
  {
   "cell_type": "code",
   "execution_count": 36,
   "metadata": {},
   "outputs": [
    {
     "data": {
      "text/plain": [
       "<AxesSubplot:xlabel='price_log'>"
      ]
     },
     "execution_count": 36,
     "metadata": {},
     "output_type": "execute_result"
    },
    {
     "data": {
      "image/png": "[encoded data removed]",
      "text/plain": [
       "<Figure size 432x288 with 1 Axes>"
      ]
     },
     "metadata": {
      "needs_background": "light"
     },
     "output_type": "display_data"
    }
   ],
   "source": [
    "# Let us pair plot for the variables 'power_log' and 'price_log'\n",
    "df.plot(x = 'price_log', y = 'power_log', style = 'o')"
   ]
  },
  {
   "cell_type": "code",
   "execution_count": 37,
   "metadata": {
    "scrolled": true
   },
   "outputs": [
    {
     "data": {
      "text/plain": [
       "<AxesSubplot:xlabel='price_log'>"
      ]
     },
     "execution_count": 37,
     "metadata": {},
     "output_type": "execute_result"
    },
    {
     "data": {
      "image/png": "[encoded data removed]",
      "text/plain": [
       "<Figure size 432x288 with 1 Axes>"
      ]
     },
     "metadata": {
      "needs_background": "light"
     },
     "output_type": "display_data"
    }
   ],
   "source": [
    "# Let us pair plot for the variables 'engine' and 'price_log'\n",
    "df.plot(x = 'price_log', y = 'Engine', style = 'o')"
   ]
  },
  {
   "cell_type": "code",
   "execution_count": 38,
   "metadata": {
    "scrolled": true
   },
   "outputs": [
    {
     "data": {
      "text/plain": [
       "<AxesSubplot:xlabel='price_log'>"
      ]
     },
     "execution_count": 38,
     "metadata": {},
     "output_type": "execute_result"
    },
    {
     "data": {
      "image/png": "[encoded data removed]",
      "text/plain": [
       "<Figure size 432x288 with 1 Axes>"
      ]
     },
     "metadata": {
      "needs_background": "light"
     },
     "output_type": "display_data"
    }
   ],
   "source": [
    "# Let us pair plot for the variables 'Seats' and 'price_log'\n",
    "df.plot(x = 'price_log', y = 'Seats', style = 'o')"
   ]
  },
  {
   "cell_type": "markdown",
   "metadata": {
    "id": "JipnN20DVL3b"
   },
   "source": [
    "**Observations and Insights from all plots:**\n",
    "\n",
    "- The price is higher for more recent cars. Meaning old cars are less priced comparitively with some outliers\n",
    "- There doesn't seem to be a direct relationship between Kilometers driven and the price. Most of the cars are driven more than 80K kilometers but their price seems to be centered around 100,000 to 300,000\n",
    "- Cars with more engine power tends to be expensive\n",
    "- Engine volume doesnt seem to impact the price of the car\n",
    "- Some Luxurious cars with limited seats are priced higher. 5 seated cars are priced at all levels.\n"
   ]
  },
  {
   "cell_type": "markdown",
   "metadata": {
    "id": "Z8svlVbWtOSy"
   },
   "source": [
    "### **2. Heat map**\n",
    "Heat map shows a 2D correlation matrix between two numerical features."
   ]
  },
  {
   "cell_type": "code",
   "execution_count": 39,
   "metadata": {
    "id": "obYRQMiytOSy"
   },
   "outputs": [
    {
     "data": {
      "image/png": "[encoded data removed]",
      "text/plain": [
       "<Figure size 864x504 with 2 Axes>"
      ]
     },
     "metadata": {
      "needs_background": "light"
     },
     "output_type": "display_data"
    }
   ],
   "source": [
    "# We can include the log transformation values and drop the original skewed data columns\n",
    "plt.figure(figsize = (12, 7))\n",
    "\n",
    "sns.heatmap(df.drop(['Kilometers_Driven', 'Price', 'Power'],axis = 1).corr(), annot = True, vmin = -1, vmax = 1)\n",
    "\n",
    "plt.show()"
   ]
  },
  {
   "cell_type": "markdown",
   "metadata": {
    "id": "p8FZxksptOSy"
   },
   "source": [
    "**Observations and Insights:**\n",
    "\n",
    "- Year and Price are positively correlated. Mileage and Year also have posiive correlation\n",
    "- Kilometers_driven and year have a significant negative correlation\n",
    "- Mileage and Power, Mileage and Engine Volume have a significant negative correlation\n",
    "- Price and Power, Price and engine volume, Price and New car price have the most significant positive correlation"
   ]
  },
  {
   "cell_type": "markdown",
   "metadata": {
    "id": "XoilGTkZIrc6"
   },
   "source": [
    "### **3. Box plot**"
   ]
  },
  {
   "cell_type": "code",
   "execution_count": 40,
   "metadata": {
    "id": "LqGH0RvCtOSy"
   },
   "outputs": [],
   "source": [
    "# Let us write a function that will help us create boxplot w.r.t Price for any input categorical variable.\n",
    "# This function takes the categorical column as the input and returns the boxplots for the variable.\n",
    "def boxplot(z):\n",
    "    \n",
    "    plt.figure(figsize = (12, 5)) # Setting size of boxplot\n",
    "    \n",
    "    sns.boxplot(x = z, y = df['price_log']) # Defining x and y\n",
    "    \n",
    "    plt.show()\n",
    "    \n",
    "    plt.figure(figsize = (12, 5))\n",
    "    \n",
    "    plt.title('Without Outliers')\n",
    "    \n",
    "    sns.boxplot(x = z, y = df['price_log'], showfliers = False) # Turning off the outliers\n",
    "    \n",
    "    plt.show()"
   ]
  },
  {
   "cell_type": "markdown",
   "metadata": {
    "id": "eXvYdYGCVL3b"
   },
   "source": [
    "#### Let us now plot bivariate analysis of target variable with a categorical variable 'Location'"
   ]
  },
  {
   "cell_type": "code",
   "execution_count": 41,
   "metadata": {
    "id": "V9Xj3jNntOSz",
    "scrolled": false
   },
   "outputs": [
    {
     "data": {
      "image/png": "[encoded data removed]",
      "text/plain": [
       "<Figure size 864x360 with 1 Axes>"
      ]
     },
     "metadata": {
      "needs_background": "light"
     },
     "output_type": "display_data"
    },
    {
     "data": {
      "image/png": "[encoded data removed]",
      "text/plain": [
       "<Figure size 864x360 with 1 Axes>"
      ]
     },
     "metadata": {
      "needs_background": "light"
     },
     "output_type": "display_data"
    }
   ],
   "source": [
    "# Box Plot: Price vs Location\n",
    "boxplot(df['Location'])"
   ]
  },
  {
   "cell_type": "code",
   "execution_count": 42,
   "metadata": {},
   "outputs": [
    {
     "data": {
      "image/png": "[encoded data removed]",
      "text/plain": [
       "<Figure size 864x360 with 1 Axes>"
      ]
     },
     "metadata": {
      "needs_background": "light"
     },
     "output_type": "display_data"
    },
    {
     "data": {
      "image/png": "[encoded data removed]",
      "text/plain": [
       "<Figure size 864x360 with 1 Axes>"
      ]
     },
     "metadata": {
      "needs_background": "light"
     },
     "output_type": "display_data"
    }
   ],
   "source": [
    "# Box Plot: Price vs Fuel_Type\n",
    "boxplot(df['Fuel_Type'])"
   ]
  },
  {
   "cell_type": "code",
   "execution_count": 43,
   "metadata": {},
   "outputs": [
    {
     "data": {
      "image/png": "[encoded data removed]",
      "text/plain": [
       "<Figure size 864x360 with 1 Axes>"
      ]
     },
     "metadata": {
      "needs_background": "light"
     },
     "output_type": "display_data"
    },
    {
     "data": {
      "image/png": "[encoded data removed]",
      "text/plain": [
       "<Figure size 864x360 with 1 Axes>"
      ]
     },
     "metadata": {
      "needs_background": "light"
     },
     "output_type": "display_data"
    }
   ],
   "source": [
    "# Box Plot: Price vs Transmission\n",
    "boxplot(df['Transmission'])"
   ]
  },
  {
   "cell_type": "code",
   "execution_count": 44,
   "metadata": {},
   "outputs": [
    {
     "data": {
      "image/png": "[encoded data removed]",
      "text/plain": [
       "<Figure size 864x360 with 1 Axes>"
      ]
     },
     "metadata": {
      "needs_background": "light"
     },
     "output_type": "display_data"
    },
    {
     "data": {
      "image/png": "[encoded data removed]",
      "text/plain": [
       "<Figure size 864x360 with 1 Axes>"
      ]
     },
     "metadata": {
      "needs_background": "light"
     },
     "output_type": "display_data"
    }
   ],
   "source": [
    "# Box Plot: Price vs Owner_Type\n",
    "boxplot(df['Owner_Type'])"
   ]
  },
  {
   "cell_type": "markdown",
   "metadata": {
    "id": "hK3wD0GyVL3c"
   },
   "source": [
    "<b>Note: </b> Explore by plotting box-plots for target variable and the other categorical variables like Fuel_Type, transmission, Owner_type."
   ]
  },
  {
   "cell_type": "markdown",
   "metadata": {
    "id": "sMoRw1rStOSz"
   },
   "source": [
    "**Observations and Insights for all plots:**\n",
    "\n",
    "- Vehicle price is higher in cities like Banglore and Coimbatore. Bangalore being a silicon valley of India with more population needing cars for their daily commute. Coimbatore is developing as an IT Hub and more educated people are migrating there.\n",
    "- Diesel and Automatic transmission vehicles are expensive.\n",
    "- First and Second hand vehicles are priced more than others.\n"
   ]
  },
  {
   "cell_type": "markdown",
   "metadata": {
    "id": "70E7M7KJtOS1"
   },
   "source": [
    "### **Feature Engineering**"
   ]
  },
  {
   "cell_type": "markdown",
   "metadata": {
    "id": "TD7mqJI6tOS1"
   },
   "source": [
    "**Think about it:** The `Name` column in the current format might not be very useful in our analysis.\n",
    "Since the name contains both the brand name and the model name of the vehicle, the column would have too many unique values to be useful in prediction. Can we extract that information from that column? "
   ]
  },
  {
   "cell_type": "markdown",
   "metadata": {
    "id": "Z1bl_6rztOS1"
   },
   "source": [
    "* **Hint:** With 2041 unique names, car names are not going to be great predictors of the price in our current data. But we can process this column to extract important information for example brand name."
   ]
  },
  {
   "cell_type": "markdown",
   "metadata": {
    "id": "2N4fU3TetOS3"
   },
   "source": [
    "### **Missing value treatment**"
   ]
  },
  {
   "cell_type": "code",
   "execution_count": 45,
   "metadata": {
    "id": "fqZJaxW-tOS4"
   },
   "outputs": [
    {
     "data": {
      "text/html": [
       "<div>\n",
       "<style scoped>\n",
       "    .dataframe tbody tr th:only-of-type {\n",
       "        vertical-align: middle;\n",
       "    }\n",
       "\n",
       "    .dataframe tbody tr th {\n",
       "        vertical-align: top;\n",
       "    }\n",
       "\n",
       "    .dataframe thead th {\n",
       "        text-align: right;\n",
       "    }\n",
       "</style>\n",
       "<table border=\"1\" class=\"dataframe\">\n",
       "  <thead>\n",
       "    <tr style=\"text-align: right;\">\n",
       "      <th></th>\n",
       "      <th>S.No.</th>\n",
       "      <th>Name</th>\n",
       "      <th>Location</th>\n",
       "      <th>Year</th>\n",
       "      <th>Kilometers_Driven</th>\n",
       "      <th>Fuel_Type</th>\n",
       "      <th>Transmission</th>\n",
       "      <th>Owner_Type</th>\n",
       "      <th>Mileage</th>\n",
       "      <th>Engine</th>\n",
       "      <th>Power</th>\n",
       "      <th>Seats</th>\n",
       "      <th>New_price</th>\n",
       "      <th>Price</th>\n",
       "      <th>kilometers_driven_log</th>\n",
       "      <th>price_log</th>\n",
       "      <th>power_log</th>\n",
       "    </tr>\n",
       "  </thead>\n",
       "  <tbody>\n",
       "    <tr>\n",
       "      <th>0</th>\n",
       "      <td>False</td>\n",
       "      <td>False</td>\n",
       "      <td>False</td>\n",
       "      <td>False</td>\n",
       "      <td>False</td>\n",
       "      <td>False</td>\n",
       "      <td>False</td>\n",
       "      <td>False</td>\n",
       "      <td>False</td>\n",
       "      <td>False</td>\n",
       "      <td>False</td>\n",
       "      <td>False</td>\n",
       "      <td>True</td>\n",
       "      <td>False</td>\n",
       "      <td>False</td>\n",
       "      <td>False</td>\n",
       "      <td>False</td>\n",
       "    </tr>\n",
       "    <tr>\n",
       "      <th>1</th>\n",
       "      <td>False</td>\n",
       "      <td>False</td>\n",
       "      <td>False</td>\n",
       "      <td>False</td>\n",
       "      <td>False</td>\n",
       "      <td>False</td>\n",
       "      <td>False</td>\n",
       "      <td>False</td>\n",
       "      <td>False</td>\n",
       "      <td>False</td>\n",
       "      <td>False</td>\n",
       "      <td>False</td>\n",
       "      <td>True</td>\n",
       "      <td>False</td>\n",
       "      <td>False</td>\n",
       "      <td>False</td>\n",
       "      <td>False</td>\n",
       "    </tr>\n",
       "    <tr>\n",
       "      <th>2</th>\n",
       "      <td>False</td>\n",
       "      <td>False</td>\n",
       "      <td>False</td>\n",
       "      <td>False</td>\n",
       "      <td>False</td>\n",
       "      <td>False</td>\n",
       "      <td>False</td>\n",
       "      <td>False</td>\n",
       "      <td>False</td>\n",
       "      <td>False</td>\n",
       "      <td>False</td>\n",
       "      <td>False</td>\n",
       "      <td>False</td>\n",
       "      <td>False</td>\n",
       "      <td>False</td>\n",
       "      <td>False</td>\n",
       "      <td>False</td>\n",
       "    </tr>\n",
       "    <tr>\n",
       "      <th>3</th>\n",
       "      <td>False</td>\n",
       "      <td>False</td>\n",
       "      <td>False</td>\n",
       "      <td>False</td>\n",
       "      <td>False</td>\n",
       "      <td>False</td>\n",
       "      <td>False</td>\n",
       "      <td>False</td>\n",
       "      <td>False</td>\n",
       "      <td>False</td>\n",
       "      <td>False</td>\n",
       "      <td>False</td>\n",
       "      <td>True</td>\n",
       "      <td>False</td>\n",
       "      <td>False</td>\n",
       "      <td>False</td>\n",
       "      <td>False</td>\n",
       "    </tr>\n",
       "    <tr>\n",
       "      <th>4</th>\n",
       "      <td>False</td>\n",
       "      <td>False</td>\n",
       "      <td>False</td>\n",
       "      <td>False</td>\n",
       "      <td>False</td>\n",
       "      <td>False</td>\n",
       "      <td>False</td>\n",
       "      <td>False</td>\n",
       "      <td>False</td>\n",
       "      <td>False</td>\n",
       "      <td>False</td>\n",
       "      <td>False</td>\n",
       "      <td>True</td>\n",
       "      <td>False</td>\n",
       "      <td>False</td>\n",
       "      <td>False</td>\n",
       "      <td>False</td>\n",
       "    </tr>\n",
       "    <tr>\n",
       "      <th>...</th>\n",
       "      <td>...</td>\n",
       "      <td>...</td>\n",
       "      <td>...</td>\n",
       "      <td>...</td>\n",
       "      <td>...</td>\n",
       "      <td>...</td>\n",
       "      <td>...</td>\n",
       "      <td>...</td>\n",
       "      <td>...</td>\n",
       "      <td>...</td>\n",
       "      <td>...</td>\n",
       "      <td>...</td>\n",
       "      <td>...</td>\n",
       "      <td>...</td>\n",
       "      <td>...</td>\n",
       "      <td>...</td>\n",
       "      <td>...</td>\n",
       "    </tr>\n",
       "    <tr>\n",
       "      <th>7248</th>\n",
       "      <td>False</td>\n",
       "      <td>False</td>\n",
       "      <td>False</td>\n",
       "      <td>False</td>\n",
       "      <td>False</td>\n",
       "      <td>False</td>\n",
       "      <td>False</td>\n",
       "      <td>False</td>\n",
       "      <td>False</td>\n",
       "      <td>False</td>\n",
       "      <td>False</td>\n",
       "      <td>False</td>\n",
       "      <td>True</td>\n",
       "      <td>True</td>\n",
       "      <td>False</td>\n",
       "      <td>True</td>\n",
       "      <td>False</td>\n",
       "    </tr>\n",
       "    <tr>\n",
       "      <th>7249</th>\n",
       "      <td>False</td>\n",
       "      <td>False</td>\n",
       "      <td>False</td>\n",
       "      <td>False</td>\n",
       "      <td>False</td>\n",
       "      <td>False</td>\n",
       "      <td>False</td>\n",
       "      <td>False</td>\n",
       "      <td>False</td>\n",
       "      <td>False</td>\n",
       "      <td>False</td>\n",
       "      <td>False</td>\n",
       "      <td>True</td>\n",
       "      <td>True</td>\n",
       "      <td>False</td>\n",
       "      <td>True</td>\n",
       "      <td>False</td>\n",
       "    </tr>\n",
       "    <tr>\n",
       "      <th>7250</th>\n",
       "      <td>False</td>\n",
       "      <td>False</td>\n",
       "      <td>False</td>\n",
       "      <td>False</td>\n",
       "      <td>False</td>\n",
       "      <td>False</td>\n",
       "      <td>False</td>\n",
       "      <td>False</td>\n",
       "      <td>False</td>\n",
       "      <td>False</td>\n",
       "      <td>False</td>\n",
       "      <td>False</td>\n",
       "      <td>True</td>\n",
       "      <td>True</td>\n",
       "      <td>False</td>\n",
       "      <td>True</td>\n",
       "      <td>False</td>\n",
       "    </tr>\n",
       "    <tr>\n",
       "      <th>7251</th>\n",
       "      <td>False</td>\n",
       "      <td>False</td>\n",
       "      <td>False</td>\n",
       "      <td>False</td>\n",
       "      <td>False</td>\n",
       "      <td>False</td>\n",
       "      <td>False</td>\n",
       "      <td>False</td>\n",
       "      <td>False</td>\n",
       "      <td>False</td>\n",
       "      <td>False</td>\n",
       "      <td>False</td>\n",
       "      <td>True</td>\n",
       "      <td>True</td>\n",
       "      <td>False</td>\n",
       "      <td>True</td>\n",
       "      <td>False</td>\n",
       "    </tr>\n",
       "    <tr>\n",
       "      <th>7252</th>\n",
       "      <td>False</td>\n",
       "      <td>False</td>\n",
       "      <td>False</td>\n",
       "      <td>False</td>\n",
       "      <td>False</td>\n",
       "      <td>False</td>\n",
       "      <td>False</td>\n",
       "      <td>False</td>\n",
       "      <td>False</td>\n",
       "      <td>False</td>\n",
       "      <td>False</td>\n",
       "      <td>False</td>\n",
       "      <td>True</td>\n",
       "      <td>True</td>\n",
       "      <td>False</td>\n",
       "      <td>True</td>\n",
       "      <td>False</td>\n",
       "    </tr>\n",
       "  </tbody>\n",
       "</table>\n",
       "<p>7252 rows × 17 columns</p>\n",
       "</div>"
      ],
      "text/plain": [
       "      S.No.   Name  Location   Year  Kilometers_Driven  Fuel_Type  \\\n",
       "0     False  False     False  False              False      False   \n",
       "1     False  False     False  False              False      False   \n",
       "2     False  False     False  False              False      False   \n",
       "3     False  False     False  False              False      False   \n",
       "4     False  False     False  False              False      False   \n",
       "...     ...    ...       ...    ...                ...        ...   \n",
       "7248  False  False     False  False              False      False   \n",
       "7249  False  False     False  False              False      False   \n",
       "7250  False  False     False  False              False      False   \n",
       "7251  False  False     False  False              False      False   \n",
       "7252  False  False     False  False              False      False   \n",
       "\n",
       "      Transmission  Owner_Type  Mileage  Engine  Power  Seats  New_price  \\\n",
       "0            False       False    False   False  False  False       True   \n",
       "1            False       False    False   False  False  False       True   \n",
       "2            False       False    False   False  False  False      False   \n",
       "3            False       False    False   False  False  False       True   \n",
       "4            False       False    False   False  False  False       True   \n",
       "...            ...         ...      ...     ...    ...    ...        ...   \n",
       "7248         False       False    False   False  False  False       True   \n",
       "7249         False       False    False   False  False  False       True   \n",
       "7250         False       False    False   False  False  False       True   \n",
       "7251         False       False    False   False  False  False       True   \n",
       "7252         False       False    False   False  False  False       True   \n",
       "\n",
       "      Price  kilometers_driven_log  price_log  power_log  \n",
       "0     False                  False      False      False  \n",
       "1     False                  False      False      False  \n",
       "2     False                  False      False      False  \n",
       "3     False                  False      False      False  \n",
       "4     False                  False      False      False  \n",
       "...     ...                    ...        ...        ...  \n",
       "7248   True                  False       True      False  \n",
       "7249   True                  False       True      False  \n",
       "7250   True                  False       True      False  \n",
       "7251   True                  False       True      False  \n",
       "7252   True                  False       True      False  \n",
       "\n",
       "[7252 rows x 17 columns]"
      ]
     },
     "execution_count": 45,
     "metadata": {},
     "output_type": "execute_result"
    }
   ],
   "source": [
    "# Now check the missing values of each column. Hint: Use isnull() method\n",
    "df.isnull()"
   ]
  },
  {
   "cell_type": "markdown",
   "metadata": {
    "id": "9D0K7dWHtOS4"
   },
   "source": [
    "#### **Observations and Insights:**\n",
    "\n",
    "- More missing values in New car price."
   ]
  },
  {
   "cell_type": "markdown",
   "metadata": {
    "id": "0g1JA9HltOS4"
   },
   "source": [
    "**Missing values in Seats**"
   ]
  },
  {
   "cell_type": "code",
   "execution_count": 46,
   "metadata": {
    "id": "0ygbJcoOtOS4",
    "scrolled": true
   },
   "outputs": [
    {
     "data": {
      "text/plain": [
       "53"
      ]
     },
     "execution_count": 46,
     "metadata": {},
     "output_type": "execute_result"
    }
   ],
   "source": [
    "# Checking missing values in the column 'Seats'\n",
    "df['Seats'].isnull().sum()"
   ]
  },
  {
   "cell_type": "markdown",
   "metadata": {
    "id": "Tg0mIMdxVL3d"
   },
   "source": [
    "**Think about it:** Can we somehow use the extracted information from 'Name' column to impute missing values?"
   ]
  },
  {
   "cell_type": "code",
   "execution_count": 47,
   "metadata": {},
   "outputs": [],
   "source": [
    "# To find median number of seats for the particular car, using the Brand and Model name.\n",
    "\n",
    "df[\"Brand\"] = df['Name'].str.split(' ').str[0]\n",
    "df[\"Model\"] = df['Name'].str.split(' ').str[1]"
   ]
  },
  {
   "cell_type": "markdown",
   "metadata": {
    "id": "wErCOPkStOS4",
    "outputId": "0b6d3b63-47a9-4aba-b053-024e186d1d7e"
   },
   "source": [
    "**Hint:** Impute these missing values one by one, by taking median number of seats for the particular car, using the Brand and Model name.\n"
   ]
  },
  {
   "cell_type": "code",
   "execution_count": 48,
   "metadata": {
    "id": "mIoatRh9tOS4"
   },
   "outputs": [],
   "source": [
    "# Impute missing values in Seats,you can use fillna method in pandas\n",
    "df['Seats'].fillna(df.groupby(['Brand','Model'])['Seats'].transform('median'),inplace = True)"
   ]
  },
  {
   "cell_type": "code",
   "execution_count": 49,
   "metadata": {},
   "outputs": [],
   "source": [
    "df.Seats.fillna(df.Seats.median(), inplace = True)"
   ]
  },
  {
   "cell_type": "code",
   "execution_count": 50,
   "metadata": {},
   "outputs": [
    {
     "data": {
      "text/plain": [
       "0"
      ]
     },
     "execution_count": 50,
     "metadata": {},
     "output_type": "execute_result"
    }
   ],
   "source": [
    "# Now check total number of missing values of the seats column to verify if they are imputed or not. Hint: Use isnull() method\n",
    "df['Seats'].isnull().sum()"
   ]
  },
  {
   "cell_type": "markdown",
   "metadata": {
    "id": "D69-3ZiCtOS7"
   },
   "source": [
    "**Missing values for New_price**"
   ]
  },
  {
   "cell_type": "code",
   "execution_count": 51,
   "metadata": {},
   "outputs": [],
   "source": [
    "# Impute missing New_price. For example, use can use median or any other methods.\n",
    "df['New_price'].fillna(df.New_price.median(), inplace= True)"
   ]
  },
  {
   "cell_type": "code",
   "execution_count": 52,
   "metadata": {},
   "outputs": [
    {
     "data": {
      "text/plain": [
       "0"
      ]
     },
     "execution_count": 52,
     "metadata": {},
     "output_type": "execute_result"
    }
   ],
   "source": [
    "# Now check total number of missing values of the New_price column to verify if they are imputed or not. Hint: Use isnull() method\n",
    "df['New_price'].isnull().sum()"
   ]
  },
  {
   "cell_type": "markdown",
   "metadata": {
    "id": "Py_n-7fLtOS6"
   },
   "source": [
    "**Missing values for Power**"
   ]
  },
  {
   "cell_type": "code",
   "execution_count": 53,
   "metadata": {},
   "outputs": [],
   "source": [
    "# Impute missing Power. For example, use can use median or any other methods.\n",
    "df['Power'].fillna(df.Power.median(), inplace = True)"
   ]
  },
  {
   "cell_type": "code",
   "execution_count": 54,
   "metadata": {},
   "outputs": [
    {
     "data": {
      "text/plain": [
       "0"
      ]
     },
     "execution_count": 54,
     "metadata": {},
     "output_type": "execute_result"
    }
   ],
   "source": [
    "# Now check total number of missing values of the Power column to verify if they are imputed or not. Hint: Use isnull() method\n",
    "df['Power'].isnull().sum()"
   ]
  },
  {
   "cell_type": "markdown",
   "metadata": {
    "id": "SSRXU5m3tOS6"
   },
   "source": [
    "**Missing values for Engine**"
   ]
  },
  {
   "cell_type": "code",
   "execution_count": 55,
   "metadata": {},
   "outputs": [],
   "source": [
    "# Impute missing Engine. For example, use can use median or any other methods.\n",
    "df['Engine'].fillna(df.Engine.median(), inplace = True)"
   ]
  },
  {
   "cell_type": "code",
   "execution_count": 56,
   "metadata": {},
   "outputs": [
    {
     "data": {
      "text/plain": [
       "0"
      ]
     },
     "execution_count": 56,
     "metadata": {},
     "output_type": "execute_result"
    }
   ],
   "source": [
    "# Now check total number of missing values of the Engine column to verify if they are imputed or not. Hint: Use isnull() method\n",
    "df['Engine'].isnull().sum()"
   ]
  },
  {
   "cell_type": "markdown",
   "metadata": {
    "id": "wjaNSFLRtOS5"
   },
   "source": [
    "**Missing values for Mileage**"
   ]
  },
  {
   "cell_type": "code",
   "execution_count": 57,
   "metadata": {
    "id": "Etr9nkEKtOS6"
   },
   "outputs": [],
   "source": [
    "# Impute missing Mileage. For example, use can use median or any other methods.\n",
    "df['Mileage'].fillna(df.Mileage.median(), inplace = True)"
   ]
  },
  {
   "cell_type": "code",
   "execution_count": 58,
   "metadata": {},
   "outputs": [
    {
     "data": {
      "text/plain": [
       "0"
      ]
     },
     "execution_count": 58,
     "metadata": {},
     "output_type": "execute_result"
    }
   ],
   "source": [
    "# Now check total number of missing values of the Mileage column to verify if they are imputed or not. Hint: Use isnull() method\n",
    "df['Mileage'].isnull().sum()"
   ]
  },
  {
   "cell_type": "markdown",
   "metadata": {},
   "source": [
    "**Observations for missing values after imputing: _____**"
   ]
  },
  {
   "cell_type": "markdown",
   "metadata": {},
   "source": [
    "## **Proposed approach**\n",
    "\n",
    "- **Potential techniques -** What different techniques should be explored?\n",
    "- **Overall solution design -** What is the potential solution design?\n",
    "- **Measures of success -** What are the key measures of success?"
   ]
  },
  {
   "cell_type": "markdown",
   "metadata": {},
   "source": [
    "### **Saving the Data**"
   ]
  },
  {
   "cell_type": "markdown",
   "metadata": {},
   "source": [
    "Please save the pre-processed dataset into a separate file so that we can continue without having to repeat the work we did in Milestone1. The stored data frame can be loaded into Milestone2 and implemented further.\n",
    "\n",
    "To save the pre-processed data frame, please follow the below lines of code:"
   ]
  },
  {
   "cell_type": "code",
   "execution_count": 59,
   "metadata": {},
   "outputs": [],
   "source": [
    "df_cleaned = df.copy()\n",
    "df_cleaned.to_csv(\"cars_data_updated.csv\", index = False)"
   ]
  }
 ],
 "metadata": {
  "colab": {
   "collapsed_sections": [
    "rlLoEhsbtOSg",
    "baG7rS5FtOSh",
    "63k9imdMtOSi",
    "T0h9uyJNVL3U",
    "foDG3YDDtOSm",
    "FE62g5aoVL3W",
    "K8ck0A1ltOSn",
    "HxhehTWQtOSo",
    "XYmSIliuIrcy",
    "vjT3FFoDIrc3",
    "8xmd6go2Irc5",
    "Z8svlVbWtOSy",
    "XoilGTkZIrc6",
    "70E7M7KJtOS1"
   ],
   "name": "Reference_Notebook_Milestone_1_Regression.ipynb",
   "provenance": []
  },
  "kernelspec": {
   "display_name": "Python 3 (ipykernel)",
   "language": "python",
   "name": "python3"
  },
  "language_info": {
   "codemirror_mode": {
    "name": "ipython",
    "version": 3
   },
   "file_extension": ".py",
   "mimetype": "text/x-python",
   "name": "python",
   "nbconvert_exporter": "python",
   "pygments_lexer": "ipython3",
   "version": "3.9.12"
  }
 },
 "nbformat": 4,
 "nbformat_minor": 1
}
